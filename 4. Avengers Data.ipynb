{
 "cells": [
  {
   "cell_type": "markdown",
   "metadata": {},
   "source": [
    "# Cleaning Avengers Data\n",
    "\n",
    "In this mission we are going to clean an Avengers dataset compiled in this [link](https://github.com/fivethirtyeight/data/tree/master/avengers) and analyze a bit of information about the famous group."
   ]
  },
  {
   "cell_type": "markdown",
   "metadata": {},
   "source": [
    "# 1. Importing and Reading Data"
   ]
  },
  {
   "cell_type": "code",
   "execution_count": 1,
   "metadata": {},
   "outputs": [
    {
     "name": "stdout",
     "output_type": "stream",
     "text": [
      "<class 'pandas.core.frame.DataFrame'>\n",
      "RangeIndex: 173 entries, 0 to 172\n",
      "Data columns (total 21 columns):\n",
      "URL                            173 non-null object\n",
      "Name/Alias                     163 non-null object\n",
      "Appearances                    173 non-null int64\n",
      "Current?                       173 non-null object\n",
      "Gender                         173 non-null object\n",
      "Probationary Introl            15 non-null object\n",
      "Full/Reserve Avengers Intro    159 non-null object\n",
      "Year                           173 non-null int64\n",
      "Years since joining            173 non-null int64\n",
      "Honorary                       173 non-null object\n",
      "Death1                         173 non-null object\n",
      "Return1                        69 non-null object\n",
      "Death2                         17 non-null object\n",
      "Return2                        16 non-null object\n",
      "Death3                         2 non-null object\n",
      "Return3                        2 non-null object\n",
      "Death4                         1 non-null object\n",
      "Return4                        1 non-null object\n",
      "Death5                         1 non-null object\n",
      "Return5                        1 non-null object\n",
      "Notes                          75 non-null object\n",
      "dtypes: int64(3), object(18)\n",
      "memory usage: 28.5+ KB\n"
     ]
    }
   ],
   "source": [
    "import pandas as pd\n",
    "\n",
    "import matplotlib.pyplot as plt\n",
    "\n",
    "avengers = pd.read_csv('avengers.csv', encoding='latin-1')\n",
    "\n",
    "avengers.info()"
   ]
  },
  {
   "cell_type": "markdown",
   "metadata": {},
   "source": [
    "# 2. Preliminar Data Cleaning"
   ]
  },
  {
   "cell_type": "code",
   "execution_count": 2,
   "metadata": {
    "scrolled": true
   },
   "outputs": [
    {
     "data": {
      "image/png": "[encoded data removed]",
      "text/plain": [
       "<Figure size 432x288 with 1 Axes>"
      ]
     },
     "metadata": {
      "needs_background": "light"
     },
     "output_type": "display_data"
    }
   ],
   "source": [
    "avengers['Year'].plot.hist()\n",
    "\n",
    "plt.show()"
   ]
  },
  {
   "cell_type": "markdown",
   "metadata": {},
   "source": [
    "As we can see above, there are some inconsistencies in the \"Year\" column. \n",
    "\n",
    "The first Avengers comic book was released in 1963! Thereby, we must eliminate the rows where \"Year\" is less than 1963.\n",
    "\n",
    "First, let's sum the values to better understand the situation"
   ]
  },
  {
   "cell_type": "code",
   "execution_count": 3,
   "metadata": {},
   "outputs": [
    {
     "name": "stdout",
     "output_type": "stream",
     "text": [
      "Number of correct dates: 159\n",
      "Number of wrong dates: 14\n"
     ]
    }
   ],
   "source": [
    "correct_date = avengers[avengers['Year'] > 1959]\n",
    "\n",
    "wrong_date = avengers[avengers['Year'] < 1960]\n",
    "\n",
    "a = correct_date['Year'].value_counts().sum()\n",
    "\n",
    "b = wrong_date['Year'].value_counts().sum()\n",
    "\n",
    "print('Number of correct dates: {}'.format(a))\n",
    "\n",
    "print('Number of wrong dates: {}'.format(b))"
   ]
  },
  {
   "cell_type": "markdown",
   "metadata": {},
   "source": [
    "Since the amount of incorrect \"Year\" entries is approximately 8% of the whole dataset, we will create a new dataframe excluding those columns."
   ]
  },
  {
   "cell_type": "code",
   "execution_count": 4,
   "metadata": {
    "scrolled": true
   },
   "outputs": [
    {
     "data": {
      "text/plain": [
       "159"
      ]
     },
     "execution_count": 4,
     "metadata": {},
     "output_type": "execute_result"
    }
   ],
   "source": [
    "true_avengers = avengers[avengers['Year'] > 1959]\n",
    "\n",
    "true_avengers['Year'].value_counts().sum()"
   ]
  },
  {
   "cell_type": "markdown",
   "metadata": {},
   "source": [
    "The output indicates we have successfully excluded the incorrect rows from our new dataframe. "
   ]
  },
  {
   "cell_type": "markdown",
   "metadata": {},
   "source": [
    "Now let's check our dataset for NaN or Null values"
   ]
  },
  {
   "cell_type": "code",
   "execution_count": 5,
   "metadata": {},
   "outputs": [
    {
     "data": {
      "text/plain": [
       "URL                              0\n",
       "Name/Alias                      10\n",
       "Appearances                      0\n",
       "Current?                         0\n",
       "Gender                           0\n",
       "Probationary Introl            146\n",
       "Full/Reserve Avengers Intro      0\n",
       "Year                             0\n",
       "Years since joining              0\n",
       "Honorary                         0\n",
       "Death1                           0\n",
       "Return1                         91\n",
       "Death2                         143\n",
       "Return2                        143\n",
       "Death3                         157\n",
       "Return3                        157\n",
       "Death4                         158\n",
       "Return4                        158\n",
       "Death5                         158\n",
       "Return5                        158\n",
       "Notes                           85\n",
       "dtype: int64"
      ]
     },
     "execution_count": 5,
     "metadata": {},
     "output_type": "execute_result"
    }
   ],
   "source": [
    "true_avengers.isnull().sum()"
   ]
  },
  {
   "cell_type": "markdown",
   "metadata": {},
   "source": [
    "Of all columns above, the only one that requires further adaptation is \"Name/Alias\".\n",
    "\n",
    "\"Probationary Introl\" states that sometimes the character was given probationary status as an Avenger. Not all heroes are expected to fall into this category, hence the null values. \n",
    "\n",
    "Moreover, \"Return 1\" onwards is ok as some heroes might have been gone for good after one or multiple deaths, or not.\n",
    "\n",
    "The \"Name/Alias\" is troublesome, though, as it leaves us unable to quickly know which character we're working with.\n",
    "\n",
    "Luckily, the URL column, without null values, sends us to a wikia page of said hero, making our task much easier.\n",
    "\n",
    "Let's fill those null values and proceed with our analysis."
   ]
  },
  {
   "cell_type": "code",
   "execution_count": 6,
   "metadata": {},
   "outputs": [
    {
     "data": {
      "text/html": [
       "<div>\n",
       "<style scoped>\n",
       "    .dataframe tbody tr th:only-of-type {\n",
       "        vertical-align: middle;\n",
       "    }\n",
       "\n",
       "    .dataframe tbody tr th {\n",
       "        vertical-align: top;\n",
       "    }\n",
       "\n",
       "    .dataframe thead th {\n",
       "        text-align: right;\n",
       "    }\n",
       "</style>\n",
       "<table border=\"1\" class=\"dataframe\">\n",
       "  <thead>\n",
       "    <tr style=\"text-align: right;\">\n",
       "      <th></th>\n",
       "      <th>URL</th>\n",
       "      <th>Name/Alias</th>\n",
       "      <th>Appearances</th>\n",
       "      <th>Current?</th>\n",
       "      <th>Gender</th>\n",
       "      <th>Probationary Introl</th>\n",
       "      <th>Full/Reserve Avengers Intro</th>\n",
       "      <th>Year</th>\n",
       "      <th>Years since joining</th>\n",
       "      <th>Honorary</th>\n",
       "      <th>...</th>\n",
       "      <th>Return1</th>\n",
       "      <th>Death2</th>\n",
       "      <th>Return2</th>\n",
       "      <th>Death3</th>\n",
       "      <th>Return3</th>\n",
       "      <th>Death4</th>\n",
       "      <th>Return4</th>\n",
       "      <th>Death5</th>\n",
       "      <th>Return5</th>\n",
       "      <th>Notes</th>\n",
       "    </tr>\n",
       "  </thead>\n",
       "  <tbody>\n",
       "    <tr>\n",
       "      <th>56</th>\n",
       "      <td>http://marvel.wikia.com/Gilgamesh_(Earth-616)#</td>\n",
       "      <td>NaN</td>\n",
       "      <td>61</td>\n",
       "      <td>NO</td>\n",
       "      <td>MALE</td>\n",
       "      <td>NaN</td>\n",
       "      <td>Feb-89</td>\n",
       "      <td>1989</td>\n",
       "      <td>26</td>\n",
       "      <td>Full</td>\n",
       "      <td>...</td>\n",
       "      <td>YES</td>\n",
       "      <td>NaN</td>\n",
       "      <td>NaN</td>\n",
       "      <td>NaN</td>\n",
       "      <td>NaN</td>\n",
       "      <td>NaN</td>\n",
       "      <td>NaN</td>\n",
       "      <td>NaN</td>\n",
       "      <td>NaN</td>\n",
       "      <td>Killed by Neut who was working for Immortus. R...</td>\n",
       "    </tr>\n",
       "    <tr>\n",
       "      <th>61</th>\n",
       "      <td>http://marvel.wikia.com/Dinah_Soar_(Earth-616)#</td>\n",
       "      <td>NaN</td>\n",
       "      <td>22</td>\n",
       "      <td>NO</td>\n",
       "      <td>FEMALE</td>\n",
       "      <td>NaN</td>\n",
       "      <td>Jul-89</td>\n",
       "      <td>1989</td>\n",
       "      <td>26</td>\n",
       "      <td>Full</td>\n",
       "      <td>...</td>\n",
       "      <td>NO</td>\n",
       "      <td>NaN</td>\n",
       "      <td>NaN</td>\n",
       "      <td>NaN</td>\n",
       "      <td>NaN</td>\n",
       "      <td>NaN</td>\n",
       "      <td>NaN</td>\n",
       "      <td>NaN</td>\n",
       "      <td>NaN</td>\n",
       "      <td>Died in Great_Lakes_Avengers_Vol_1_1. Has not ...</td>\n",
       "    </tr>\n",
       "    <tr>\n",
       "      <th>67</th>\n",
       "      <td>http://marvel.wikia.com/Monkey_Joe_(Earth-616)#</td>\n",
       "      <td>NaN</td>\n",
       "      <td>7</td>\n",
       "      <td>NO</td>\n",
       "      <td>MALE</td>\n",
       "      <td>NaN</td>\n",
       "      <td>5-May</td>\n",
       "      <td>2005</td>\n",
       "      <td>10</td>\n",
       "      <td>Full</td>\n",
       "      <td>...</td>\n",
       "      <td>NO</td>\n",
       "      <td>NaN</td>\n",
       "      <td>NaN</td>\n",
       "      <td>NaN</td>\n",
       "      <td>NaN</td>\n",
       "      <td>NaN</td>\n",
       "      <td>NaN</td>\n",
       "      <td>NaN</td>\n",
       "      <td>NaN</td>\n",
       "      <td>Killed by Leather Boy</td>\n",
       "    </tr>\n",
       "    <tr>\n",
       "      <th>69</th>\n",
       "      <td>http://marvel.wikia.com/Tippy-Toe_(Earth-616)#</td>\n",
       "      <td>NaN</td>\n",
       "      <td>16</td>\n",
       "      <td>NO</td>\n",
       "      <td>FEMALE</td>\n",
       "      <td>NaN</td>\n",
       "      <td>5-Jul</td>\n",
       "      <td>2005</td>\n",
       "      <td>10</td>\n",
       "      <td>Full</td>\n",
       "      <td>...</td>\n",
       "      <td>NaN</td>\n",
       "      <td>NaN</td>\n",
       "      <td>NaN</td>\n",
       "      <td>NaN</td>\n",
       "      <td>NaN</td>\n",
       "      <td>NaN</td>\n",
       "      <td>NaN</td>\n",
       "      <td>NaN</td>\n",
       "      <td>NaN</td>\n",
       "      <td>NaN</td>\n",
       "    </tr>\n",
       "    <tr>\n",
       "      <th>80</th>\n",
       "      <td>http://marvel.wikia.com/Melissa_Darrow_(Earth-...</td>\n",
       "      <td>NaN</td>\n",
       "      <td>28</td>\n",
       "      <td>NO</td>\n",
       "      <td>FEMALE</td>\n",
       "      <td>NaN</td>\n",
       "      <td>Jun-93</td>\n",
       "      <td>1993</td>\n",
       "      <td>22</td>\n",
       "      <td>Honorary</td>\n",
       "      <td>...</td>\n",
       "      <td>NaN</td>\n",
       "      <td>NaN</td>\n",
       "      <td>NaN</td>\n",
       "      <td>NaN</td>\n",
       "      <td>NaN</td>\n",
       "      <td>NaN</td>\n",
       "      <td>NaN</td>\n",
       "      <td>NaN</td>\n",
       "      <td>NaN</td>\n",
       "      <td>NaN</td>\n",
       "    </tr>\n",
       "    <tr>\n",
       "      <th>81</th>\n",
       "      <td>http://marvel.wikia.com/Deathcry_(Earth-616)#</td>\n",
       "      <td>NaN</td>\n",
       "      <td>50</td>\n",
       "      <td>NO</td>\n",
       "      <td>FEMALE</td>\n",
       "      <td>NaN</td>\n",
       "      <td>Jul-93</td>\n",
       "      <td>1993</td>\n",
       "      <td>22</td>\n",
       "      <td>Honorary</td>\n",
       "      <td>...</td>\n",
       "      <td>YES</td>\n",
       "      <td>YES</td>\n",
       "      <td>NO</td>\n",
       "      <td>NaN</td>\n",
       "      <td>NaN</td>\n",
       "      <td>NaN</td>\n",
       "      <td>NaN</td>\n",
       "      <td>NaN</td>\n",
       "      <td>NaN</td>\n",
       "      <td>Reduced her to a pile of bones and organsby V...</td>\n",
       "    </tr>\n",
       "    <tr>\n",
       "      <th>148</th>\n",
       "      <td>http://marvel.wikia.com/Captain_Universe_(Eart...</td>\n",
       "      <td>NaN</td>\n",
       "      <td>55</td>\n",
       "      <td>YES</td>\n",
       "      <td>MALE</td>\n",
       "      <td>NaN</td>\n",
       "      <td>13-Feb</td>\n",
       "      <td>2013</td>\n",
       "      <td>2</td>\n",
       "      <td>Full</td>\n",
       "      <td>...</td>\n",
       "      <td>NaN</td>\n",
       "      <td>NaN</td>\n",
       "      <td>NaN</td>\n",
       "      <td>NaN</td>\n",
       "      <td>NaN</td>\n",
       "      <td>NaN</td>\n",
       "      <td>NaN</td>\n",
       "      <td>NaN</td>\n",
       "      <td>NaN</td>\n",
       "      <td>NaN</td>\n",
       "    </tr>\n",
       "    <tr>\n",
       "      <th>153</th>\n",
       "      <td>http://marvel.wikia.com/Ex_Nihilo_(Earth-616)#</td>\n",
       "      <td>NaN</td>\n",
       "      <td>24</td>\n",
       "      <td>YES</td>\n",
       "      <td>MALE</td>\n",
       "      <td>NaN</td>\n",
       "      <td>13-Oct</td>\n",
       "      <td>2013</td>\n",
       "      <td>2</td>\n",
       "      <td>Full</td>\n",
       "      <td>...</td>\n",
       "      <td>NO</td>\n",
       "      <td>NaN</td>\n",
       "      <td>NaN</td>\n",
       "      <td>NaN</td>\n",
       "      <td>NaN</td>\n",
       "      <td>NaN</td>\n",
       "      <td>NaN</td>\n",
       "      <td>NaN</td>\n",
       "      <td>NaN</td>\n",
       "      <td>Died in New_Avengers_Vol_3_32</td>\n",
       "    </tr>\n",
       "    <tr>\n",
       "      <th>154</th>\n",
       "      <td>http://marvel.wikia.com/Abyss_(Ex_Nihilo%27s)_...</td>\n",
       "      <td>NaN</td>\n",
       "      <td>25</td>\n",
       "      <td>YES</td>\n",
       "      <td>FEMALE</td>\n",
       "      <td>NaN</td>\n",
       "      <td>13-Oct</td>\n",
       "      <td>2013</td>\n",
       "      <td>2</td>\n",
       "      <td>Full</td>\n",
       "      <td>...</td>\n",
       "      <td>NO</td>\n",
       "      <td>NaN</td>\n",
       "      <td>NaN</td>\n",
       "      <td>NaN</td>\n",
       "      <td>NaN</td>\n",
       "      <td>NaN</td>\n",
       "      <td>NaN</td>\n",
       "      <td>NaN</td>\n",
       "      <td>NaN</td>\n",
       "      <td>Died in New_Avengers_Vol_3_32</td>\n",
       "    </tr>\n",
       "    <tr>\n",
       "      <th>166</th>\n",
       "      <td>http://marvel.wikia.com/Doombot_(Avenger)_(Ear...</td>\n",
       "      <td>NaN</td>\n",
       "      <td>14</td>\n",
       "      <td>YES</td>\n",
       "      <td>MALE</td>\n",
       "      <td>NaN</td>\n",
       "      <td>13-Sep</td>\n",
       "      <td>2013</td>\n",
       "      <td>2</td>\n",
       "      <td>Full</td>\n",
       "      <td>...</td>\n",
       "      <td>NaN</td>\n",
       "      <td>NaN</td>\n",
       "      <td>NaN</td>\n",
       "      <td>NaN</td>\n",
       "      <td>NaN</td>\n",
       "      <td>NaN</td>\n",
       "      <td>NaN</td>\n",
       "      <td>NaN</td>\n",
       "      <td>NaN</td>\n",
       "      <td>NaN</td>\n",
       "    </tr>\n",
       "  </tbody>\n",
       "</table>\n",
       "<p>10 rows × 21 columns</p>\n",
       "</div>"
      ],
      "text/plain": [
       "                                                   URL Name/Alias  \\\n",
       "56      http://marvel.wikia.com/Gilgamesh_(Earth-616)#        NaN   \n",
       "61     http://marvel.wikia.com/Dinah_Soar_(Earth-616)#        NaN   \n",
       "67     http://marvel.wikia.com/Monkey_Joe_(Earth-616)#        NaN   \n",
       "69      http://marvel.wikia.com/Tippy-Toe_(Earth-616)#        NaN   \n",
       "80   http://marvel.wikia.com/Melissa_Darrow_(Earth-...        NaN   \n",
       "81       http://marvel.wikia.com/Deathcry_(Earth-616)#        NaN   \n",
       "148  http://marvel.wikia.com/Captain_Universe_(Eart...        NaN   \n",
       "153     http://marvel.wikia.com/Ex_Nihilo_(Earth-616)#        NaN   \n",
       "154  http://marvel.wikia.com/Abyss_(Ex_Nihilo%27s)_...        NaN   \n",
       "166  http://marvel.wikia.com/Doombot_(Avenger)_(Ear...        NaN   \n",
       "\n",
       "     Appearances Current?  Gender Probationary Introl  \\\n",
       "56            61       NO    MALE                 NaN   \n",
       "61            22       NO  FEMALE                 NaN   \n",
       "67             7       NO    MALE                 NaN   \n",
       "69            16       NO  FEMALE                 NaN   \n",
       "80            28       NO  FEMALE                 NaN   \n",
       "81            50       NO  FEMALE                 NaN   \n",
       "148           55      YES    MALE                 NaN   \n",
       "153           24      YES    MALE                 NaN   \n",
       "154           25      YES  FEMALE                 NaN   \n",
       "166           14      YES    MALE                 NaN   \n",
       "\n",
       "    Full/Reserve Avengers Intro  Year  Years since joining  Honorary  ...  \\\n",
       "56                       Feb-89  1989                   26      Full  ...   \n",
       "61                       Jul-89  1989                   26      Full  ...   \n",
       "67                        5-May  2005                   10      Full  ...   \n",
       "69                        5-Jul  2005                   10      Full  ...   \n",
       "80                       Jun-93  1993                   22  Honorary  ...   \n",
       "81                       Jul-93  1993                   22  Honorary  ...   \n",
       "148                      13-Feb  2013                    2      Full  ...   \n",
       "153                      13-Oct  2013                    2      Full  ...   \n",
       "154                      13-Oct  2013                    2      Full  ...   \n",
       "166                      13-Sep  2013                    2      Full  ...   \n",
       "\n",
       "    Return1 Death2 Return2 Death3 Return3 Death4 Return4 Death5 Return5  \\\n",
       "56      YES    NaN     NaN    NaN     NaN    NaN     NaN    NaN     NaN   \n",
       "61       NO    NaN     NaN    NaN     NaN    NaN     NaN    NaN     NaN   \n",
       "67       NO    NaN     NaN    NaN     NaN    NaN     NaN    NaN     NaN   \n",
       "69      NaN    NaN     NaN    NaN     NaN    NaN     NaN    NaN     NaN   \n",
       "80      NaN    NaN     NaN    NaN     NaN    NaN     NaN    NaN     NaN   \n",
       "81      YES    YES      NO    NaN     NaN    NaN     NaN    NaN     NaN   \n",
       "148     NaN    NaN     NaN    NaN     NaN    NaN     NaN    NaN     NaN   \n",
       "153      NO    NaN     NaN    NaN     NaN    NaN     NaN    NaN     NaN   \n",
       "154      NO    NaN     NaN    NaN     NaN    NaN     NaN    NaN     NaN   \n",
       "166     NaN    NaN     NaN    NaN     NaN    NaN     NaN    NaN     NaN   \n",
       "\n",
       "                                                 Notes  \n",
       "56   Killed by Neut who was working for Immortus. R...  \n",
       "61   Died in Great_Lakes_Avengers_Vol_1_1. Has not ...  \n",
       "67                               Killed by Leather Boy  \n",
       "69                                                 NaN  \n",
       "80                                                 NaN  \n",
       "81    Reduced her to a pile of bones and organsby V...  \n",
       "148                                                NaN  \n",
       "153                      Died in New_Avengers_Vol_3_32  \n",
       "154                      Died in New_Avengers_Vol_3_32  \n",
       "166                                                NaN  \n",
       "\n",
       "[10 rows x 21 columns]"
      ]
     },
     "execution_count": 6,
     "metadata": {},
     "output_type": "execute_result"
    }
   ],
   "source": [
    "true_avengers[true_avengers['Name/Alias'].isnull()]"
   ]
  },
  {
   "cell_type": "code",
   "execution_count": 7,
   "metadata": {
    "scrolled": true
   },
   "outputs": [
    {
     "name": "stdout",
     "output_type": "stream",
     "text": [
      "56        http://marvel.wikia.com/Gilgamesh_(Earth-616)#\n",
      "61       http://marvel.wikia.com/Dinah_Soar_(Earth-616)#\n",
      "67       http://marvel.wikia.com/Monkey_Joe_(Earth-616)#\n",
      "69        http://marvel.wikia.com/Tippy-Toe_(Earth-616)#\n",
      "80     http://marvel.wikia.com/Melissa_Darrow_(Earth-...\n",
      "81         http://marvel.wikia.com/Deathcry_(Earth-616)#\n",
      "148    http://marvel.wikia.com/Captain_Universe_(Eart...\n",
      "153       http://marvel.wikia.com/Ex_Nihilo_(Earth-616)#\n",
      "154    http://marvel.wikia.com/Abyss_(Ex_Nihilo%27s)_...\n",
      "166    http://marvel.wikia.com/Doombot_(Avenger)_(Ear...\n",
      "Name: URL, dtype: object\n"
     ]
    }
   ],
   "source": [
    "a = true_avengers[true_avengers['Name/Alias'].isnull()]['URL']\n",
    "print(a)"
   ]
  },
  {
   "cell_type": "code",
   "execution_count": 8,
   "metadata": {},
   "outputs": [],
   "source": [
    "missing_chars = ['Gilgamesh','Dinah Soar','Monkey Joe','Tippy Toe','Magdalene','Deathcry','Captain Universe','Ex Nihilo','Abyss','Doombot']\n",
    "missing_rows = [56, 61, 67, 69, 80, 81, 148, 153, 154, 166]\n",
    "counter = 0\n",
    "\n",
    "for row in missing_rows: \n",
    "    true_avengers.at[row,'Name/Alias'] = missing_chars[counter]\n",
    "    counter += 1"
   ]
  },
  {
   "cell_type": "code",
   "execution_count": 9,
   "metadata": {},
   "outputs": [
    {
     "data": {
      "text/html": [
       "<div>\n",
       "<style scoped>\n",
       "    .dataframe tbody tr th:only-of-type {\n",
       "        vertical-align: middle;\n",
       "    }\n",
       "\n",
       "    .dataframe tbody tr th {\n",
       "        vertical-align: top;\n",
       "    }\n",
       "\n",
       "    .dataframe thead th {\n",
       "        text-align: right;\n",
       "    }\n",
       "</style>\n",
       "<table border=\"1\" class=\"dataframe\">\n",
       "  <thead>\n",
       "    <tr style=\"text-align: right;\">\n",
       "      <th></th>\n",
       "      <th>URL</th>\n",
       "      <th>Name/Alias</th>\n",
       "      <th>Appearances</th>\n",
       "      <th>Current?</th>\n",
       "      <th>Gender</th>\n",
       "      <th>Probationary Introl</th>\n",
       "      <th>Full/Reserve Avengers Intro</th>\n",
       "      <th>Year</th>\n",
       "      <th>Years since joining</th>\n",
       "      <th>Honorary</th>\n",
       "      <th>...</th>\n",
       "      <th>Return1</th>\n",
       "      <th>Death2</th>\n",
       "      <th>Return2</th>\n",
       "      <th>Death3</th>\n",
       "      <th>Return3</th>\n",
       "      <th>Death4</th>\n",
       "      <th>Return4</th>\n",
       "      <th>Death5</th>\n",
       "      <th>Return5</th>\n",
       "      <th>Notes</th>\n",
       "    </tr>\n",
       "  </thead>\n",
       "  <tbody>\n",
       "  </tbody>\n",
       "</table>\n",
       "<p>0 rows × 21 columns</p>\n",
       "</div>"
      ],
      "text/plain": [
       "Empty DataFrame\n",
       "Columns: [URL, Name/Alias, Appearances, Current?, Gender, Probationary Introl, Full/Reserve Avengers Intro, Year, Years since joining, Honorary, Death1, Return1, Death2, Return2, Death3, Return3, Death4, Return4, Death5, Return5, Notes]\n",
       "Index: []\n",
       "\n",
       "[0 rows x 21 columns]"
      ]
     },
     "execution_count": 9,
     "metadata": {},
     "output_type": "execute_result"
    }
   ],
   "source": [
    "true_avengers[true_avengers['Name/Alias'].isnull()]"
   ]
  },
  {
   "cell_type": "code",
   "execution_count": 10,
   "metadata": {
    "scrolled": true
   },
   "outputs": [
    {
     "data": {
      "text/plain": [
       "Series([], Name: Name/Alias, dtype: object)"
      ]
     },
     "execution_count": 10,
     "metadata": {},
     "output_type": "execute_result"
    }
   ],
   "source": [
    "true_avengers[true_avengers['Name/Alias'].isnull()]['Name/Alias']"
   ]
  },
  {
   "cell_type": "markdown",
   "metadata": {},
   "source": [
    "Now we have successfully dealt with the missing names and are ready to move on to the next steps which are about arbitrary analysis on the data."
   ]
  },
  {
   "cell_type": "markdown",
   "metadata": {},
   "source": [
    "# 3. Adding a new column"
   ]
  },
  {
   "cell_type": "markdown",
   "metadata": {},
   "source": [
    "Now we want to add a new column representing the number of times each caracter died and rank them accordingly."
   ]
  },
  {
   "cell_type": "code",
   "execution_count": 11,
   "metadata": {
    "scrolled": false
   },
   "outputs": [
    {
     "data": {
      "text/html": [
       "<div>\n",
       "<style scoped>\n",
       "    .dataframe tbody tr th:only-of-type {\n",
       "        vertical-align: middle;\n",
       "    }\n",
       "\n",
       "    .dataframe tbody tr th {\n",
       "        vertical-align: top;\n",
       "    }\n",
       "\n",
       "    .dataframe thead th {\n",
       "        text-align: right;\n",
       "    }\n",
       "</style>\n",
       "<table border=\"1\" class=\"dataframe\">\n",
       "  <thead>\n",
       "    <tr style=\"text-align: right;\">\n",
       "      <th></th>\n",
       "      <th>Name/Alias</th>\n",
       "      <th>Deaths</th>\n",
       "    </tr>\n",
       "  </thead>\n",
       "  <tbody>\n",
       "    <tr>\n",
       "      <th>32</th>\n",
       "      <td>Jocasta</td>\n",
       "      <td>5</td>\n",
       "    </tr>\n",
       "    <tr>\n",
       "      <th>29</th>\n",
       "      <td>Mar-Vell</td>\n",
       "      <td>3</td>\n",
       "    </tr>\n",
       "    <tr>\n",
       "      <th>81</th>\n",
       "      <td>Deathcry</td>\n",
       "      <td>2</td>\n",
       "    </tr>\n",
       "    <tr>\n",
       "      <th>18</th>\n",
       "      <td>Heather Douglas</td>\n",
       "      <td>2</td>\n",
       "    </tr>\n",
       "    <tr>\n",
       "      <th>51</th>\n",
       "      <td>Anthony Ludgate Druid</td>\n",
       "      <td>2</td>\n",
       "    </tr>\n",
       "    <tr>\n",
       "      <th>52</th>\n",
       "      <td>Marrina Smallwood</td>\n",
       "      <td>2</td>\n",
       "    </tr>\n",
       "    <tr>\n",
       "      <th>53</th>\n",
       "      <td>Ravonna Lexus Renslayer</td>\n",
       "      <td>2</td>\n",
       "    </tr>\n",
       "    <tr>\n",
       "      <th>55</th>\n",
       "      <td>Dennis Dunphy</td>\n",
       "      <td>2</td>\n",
       "    </tr>\n",
       "    <tr>\n",
       "      <th>73</th>\n",
       "      <td>Peter Benjamin Parker</td>\n",
       "      <td>2</td>\n",
       "    </tr>\n",
       "    <tr>\n",
       "      <th>78</th>\n",
       "      <td>Eric Kevin Masterson</td>\n",
       "      <td>2</td>\n",
       "    </tr>\n",
       "    <tr>\n",
       "      <th>88</th>\n",
       "      <td>Jonathan Hart</td>\n",
       "      <td>2</td>\n",
       "    </tr>\n",
       "    <tr>\n",
       "      <th>105</th>\n",
       "      <td>Ares</td>\n",
       "      <td>2</td>\n",
       "    </tr>\n",
       "    <tr>\n",
       "      <th>20</th>\n",
       "      <td>Matthew Liebowitz (birth name)</td>\n",
       "      <td>2</td>\n",
       "    </tr>\n",
       "    <tr>\n",
       "      <th>94</th>\n",
       "      <td>Maya Lopez</td>\n",
       "      <td>2</td>\n",
       "    </tr>\n",
       "    <tr>\n",
       "      <th>7</th>\n",
       "      <td>Clinton Francis Barton</td>\n",
       "      <td>2</td>\n",
       "    </tr>\n",
       "    <tr>\n",
       "      <th>4</th>\n",
       "      <td>Thor Odinson</td>\n",
       "      <td>2</td>\n",
       "    </tr>\n",
       "    <tr>\n",
       "      <th>119</th>\n",
       "      <td>Thaddeus Ross</td>\n",
       "      <td>1</td>\n",
       "    </tr>\n",
       "    <tr>\n",
       "      <th>61</th>\n",
       "      <td>Dinah Soar</td>\n",
       "      <td>1</td>\n",
       "    </tr>\n",
       "    <tr>\n",
       "      <th>154</th>\n",
       "      <td>Abyss</td>\n",
       "      <td>1</td>\n",
       "    </tr>\n",
       "    <tr>\n",
       "      <th>70</th>\n",
       "      <td>Wade Wilson</td>\n",
       "      <td>1</td>\n",
       "    </tr>\n",
       "  </tbody>\n",
       "</table>\n",
       "</div>"
      ],
      "text/plain": [
       "                         Name/Alias  Deaths\n",
       "32                          Jocasta       5\n",
       "29                         Mar-Vell       3\n",
       "81                         Deathcry       2\n",
       "18                  Heather Douglas       2\n",
       "51            Anthony Ludgate Druid       2\n",
       "52                Marrina Smallwood       2\n",
       "53          Ravonna Lexus Renslayer       2\n",
       "55                    Dennis Dunphy       2\n",
       "73            Peter Benjamin Parker       2\n",
       "78             Eric Kevin Masterson       2\n",
       "88                    Jonathan Hart       2\n",
       "105                            Ares       2\n",
       "20   Matthew Liebowitz (birth name)       2\n",
       "94                       Maya Lopez       2\n",
       "7            Clinton Francis Barton       2\n",
       "4                      Thor Odinson       2\n",
       "119                   Thaddeus Ross       1\n",
       "61                       Dinah Soar       1\n",
       "154                           Abyss       1\n",
       "70                      Wade Wilson       1"
      ]
     },
     "execution_count": 11,
     "metadata": {},
     "output_type": "execute_result"
    }
   ],
   "source": [
    "pd.set_option('mode.chained_assignment', None)\n",
    "\n",
    "def clean_deaths(row):\n",
    "    num_deaths = 0\n",
    "    columns = ['Death1', 'Death2', 'Death3', 'Death4', 'Death5']\n",
    "    \n",
    "    for c in columns:\n",
    "        death = row[c]\n",
    "        if pd.isnull(death) or death == 'NO':\n",
    "            continue\n",
    "        elif death == 'YES':\n",
    "            num_deaths += 1\n",
    "    return num_deaths\n",
    "\n",
    "true_avengers['Deaths'] = true_avengers.apply(clean_deaths, axis=1)\n",
    "\n",
    "true_avengers[['Name/Alias','Deaths']].sort_values(ascending=False, by='Deaths').head(20)"
   ]
  },
  {
   "cell_type": "markdown",
   "metadata": {},
   "source": [
    "# 4. Verifying the \"Years since joining\" column. \n",
    "\n",
    "Since this dataset was created on 2015, this column should represent the correct result of (2015 - \"Year\").\n",
    "\n",
    "Let's make sure this is the case."
   ]
  },
  {
   "cell_type": "code",
   "execution_count": 12,
   "metadata": {},
   "outputs": [
    {
     "name": "stdout",
     "output_type": "stream",
     "text": [
      "The number of correct rows is: 159\n"
     ]
    }
   ],
   "source": [
    "correct_count = true_avengers[true_avengers['Years since joining'] == (2015 - true_avengers['Year'])]\n",
    "\n",
    "print('The number of correct rows is: {}'.format(correct_count.shape[0]))"
   ]
  },
  {
   "cell_type": "markdown",
   "metadata": {},
   "source": [
    "This last piece of code allowed us to see that the \"Years since joining\" column has been filled with correct values in all rows."
   ]
  },
  {
   "cell_type": "markdown",
   "metadata": {},
   "source": [
    "# 5. Conclusion"
   ]
  },
  {
   "cell_type": "markdown",
   "metadata": {},
   "source": [
    "In summary, the following alterations were done to the dataset:\n",
    "\n",
    "* Data Cleaning in rows with incorrect year entries\n",
    "* Addition of names in rows without them\n",
    "* Classification of characters according to number of deaths\n",
    "* Verification of the veracity of 'Years since joining' column"
   ]
  }
 ],
 "metadata": {
  "kernelspec": {
   "display_name": "Python 3",
   "language": "python",
   "name": "python3"
  },
  "language_info": {
   "codemirror_mode": {
    "name": "ipython",
    "version": 3
   },
   "file_extension": ".py",
   "mimetype": "text/x-python",
   "name": "python",
   "nbconvert_exporter": "python",
   "pygments_lexer": "ipython3",
   "version": "3.7.3"
  }
 },
 "nbformat": 4,
 "nbformat_minor": 2
}
