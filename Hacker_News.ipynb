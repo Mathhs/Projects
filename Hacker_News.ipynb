{
 "cells": [
  {
   "cell_type": "markdown",
   "metadata": {},
   "source": [
    "# Exploring Hacker News Posts\n",
    "\n",
    "This projects stems from an exercise found on the [dataquest website](https://dataquest.io)\n",
    "\n",
    "Below we explore data from a popular website called [Hacker News](https://news.ycombinator.com/)\n",
    "\n",
    "The data set used can be found [here](https://www.kaggle.com/hacker-news/hacker-news-posts)\n",
    "\n",
    "The main objective is to determine which hours of the day have the most comments per post"
   ]
  },
  {
   "cell_type": "code",
   "execution_count": 1,
   "metadata": {
    "collapsed": false
   },
   "outputs": [],
   "source": [
    "# Importing the data set\n",
    "\n",
    "from csv import reader\n",
    "\n",
    "opened_file = open('hacker_news.csv')\n",
    "\n",
    "read_file = reader(opened_file)\n",
    "\n",
    "hn = list(read_file)\n",
    "\n",
    "headers = hn[0]\n",
    "\n",
    "hn = hn[1:]"
   ]
  },
  {
   "cell_type": "code",
   "execution_count": 2,
   "metadata": {
    "collapsed": false
   },
   "outputs": [
    {
     "name": "stdout",
     "output_type": "stream",
     "text": [
      "20100\n"
     ]
    }
   ],
   "source": [
    "print(len(hn))"
   ]
  },
  {
   "cell_type": "code",
   "execution_count": 3,
   "metadata": {
    "collapsed": false
   },
   "outputs": [
    {
     "name": "stdout",
     "output_type": "stream",
     "text": [
      "['id', 'title', 'url', 'num_points', 'num_comments', 'author', 'created_at']\n"
     ]
    }
   ],
   "source": [
    "print(headers)"
   ]
  },
  {
   "cell_type": "code",
   "execution_count": 4,
   "metadata": {
    "collapsed": false
   },
   "outputs": [
    {
     "name": "stdout",
     "output_type": "stream",
     "text": [
      "['12224879', 'Interactive Dynamic Video', 'http://www.interactivedynamicvideo.com/', '386', '52', 'ne0phyte', '8/4/2016 11:52']\n"
     ]
    }
   ],
   "source": [
    "print(hn[0])"
   ]
  },
  {
   "cell_type": "code",
   "execution_count": 5,
   "metadata": {
    "collapsed": false
   },
   "outputs": [],
   "source": [
    "# Dividing posts into three categories\n",
    "\n",
    "ask_posts = []\n",
    "\n",
    "show_posts = []\n",
    "\n",
    "other_posts = []\n",
    "\n",
    "for row in hn:\n",
    "    title = row[1]\n",
    "    \n",
    "    if title.lower().startswith('ask hn'):\n",
    "        ask_posts.append(row)\n",
    "        \n",
    "    elif title.lower().startswith('show hn'):\n",
    "        show_posts.append(row)\n",
    "        \n",
    "    else:\n",
    "        other_posts.append(row)"
   ]
  },
  {
   "cell_type": "code",
   "execution_count": 6,
   "metadata": {
    "collapsed": false
   },
   "outputs": [
    {
     "name": "stdout",
     "output_type": "stream",
     "text": [
      "1744\n",
      "1162\n",
      "17194\n"
     ]
    }
   ],
   "source": [
    "print(len(ask_posts))\n",
    "\n",
    "print(len(show_posts))\n",
    "\n",
    "print(len(other_posts))"
   ]
  },
  {
   "cell_type": "code",
   "execution_count": 7,
   "metadata": {
    "collapsed": false
   },
   "outputs": [
    {
     "name": "stdout",
     "output_type": "stream",
     "text": [
      "The total number of comments is: 24483\n",
      "The average number of comments is: 14.04\n"
     ]
    }
   ],
   "source": [
    "# Total and average number of comments for \"Ask Posts\"\n",
    "\n",
    "total_ask_comments = 0\n",
    "\n",
    "for row in ask_posts:\n",
    "    n_comments = int(row[4])\n",
    "    total_ask_comments += n_comments \n",
    "    \n",
    "print('The total number of comments is: {}'.format(total_ask_comments))    \n",
    "    \n",
    "avg_ask_comments = total_ask_comments / len(ask_posts)\n",
    "\n",
    "print('The average number of comments is: {:.2f}'.format(avg_ask_comments))"
   ]
  },
  {
   "cell_type": "code",
   "execution_count": 8,
   "metadata": {
    "collapsed": false
   },
   "outputs": [
    {
     "name": "stdout",
     "output_type": "stream",
     "text": [
      "The total number of comments is: 11988\n",
      "The average number of comments is: 10.32\n"
     ]
    }
   ],
   "source": [
    "# Total and average number of comments for \"Show Posts\"\n",
    "\n",
    "total_show_comments = 0\n",
    "\n",
    "for row in show_posts:\n",
    "    n_comments = int(row[4])\n",
    "    total_show_comments += n_comments\n",
    "    \n",
    "print('The total number of comments is: {}'.format(total_show_comments))\n",
    "\n",
    "avg_show_comments = total_show_comments / len(show_posts)\n",
    "\n",
    "print('The average number of comments is: {:.2f}'.format(avg_show_comments))"
   ]
  },
  {
   "cell_type": "markdown",
   "metadata": {},
   "source": [
    "We can see that \"Ask Posts\" receive more comments both in total terms as well as in average when compared to \"Show Posts\""
   ]
  },
  {
   "cell_type": "code",
   "execution_count": 9,
   "metadata": {
    "collapsed": false
   },
   "outputs": [],
   "source": [
    "# Importing datetime module\n",
    "\n",
    "import datetime as dt\n",
    "\n",
    "# Now we append both the date of the posts as well as the number of comments as a list in the \"result_list\" list of lists\n",
    "\n",
    "result_list = []\n",
    "\n",
    "for row in ask_posts:\n",
    "    result_list.append([row[6], int(row[4])])\n",
    "\n",
    "# Creating two dictionaries which will act as frequency tables    \n",
    "    \n",
    "counts_by_hour = {}\n",
    "\n",
    "comments_by_hour = {}\n",
    "\n",
    "for row in result_list:\n",
    "    date = dt.datetime.strptime(row[0], '%m/%d/%Y %H:%M')\n",
    "    hour = dt.datetime.strftime(date, '%H')\n",
    "    \n",
    "    if hour not in counts_by_hour:\n",
    "        counts_by_hour[hour] = 1\n",
    "        comments_by_hour[hour] = row[1]\n",
    "        \n",
    "    elif hour in counts_by_hour:\n",
    "        counts_by_hour[hour] += 1\n",
    "        comments_by_hour[hour] += row[1]   "
   ]
  },
  {
   "cell_type": "code",
   "execution_count": 10,
   "metadata": {
    "collapsed": false
   },
   "outputs": [
    {
     "name": "stdout",
     "output_type": "stream",
     "text": [
      "{'08': 48, '09': 45, '02': 58, '15': 116, '16': 108, '22': 71, '10': 59, '05': 46, '13': 85, '12': 73, '21': 109, '07': 34, '18': 109, '20': 80, '03': 54, '17': 100, '01': 60, '11': 58, '19': 110, '06': 44, '04': 47, '23': 68, '00': 55, '14': 107}\n",
      "------------\n",
      "{'08': 492, '09': 251, '02': 1381, '15': 4477, '16': 1814, '22': 479, '10': 793, '05': 464, '13': 1253, '12': 687, '21': 1745, '07': 267, '18': 1439, '20': 1722, '03': 421, '17': 1146, '01': 683, '11': 641, '19': 1188, '06': 397, '04': 337, '23': 543, '00': 447, '14': 1416}\n"
     ]
    }
   ],
   "source": [
    "# The created dictionaries are shown below\n",
    "\n",
    "print(counts_by_hour)\n",
    "print('------------')\n",
    "print(comments_by_hour)"
   ]
  },
  {
   "cell_type": "code",
   "execution_count": 11,
   "metadata": {
    "collapsed": false
   },
   "outputs": [],
   "source": [
    "# Average comments per hour\n",
    "\n",
    "avg_by_hour = []\n",
    "\n",
    "for hour in comments_by_hour:\n",
    "    avg_by_hour.append([hour, round(comments_by_hour[hour] / counts_by_hour[hour], 2) ])"
   ]
  },
  {
   "cell_type": "code",
   "execution_count": 12,
   "metadata": {
    "collapsed": false,
    "scrolled": false
   },
   "outputs": [
    {
     "name": "stdout",
     "output_type": "stream",
     "text": [
      "[['08', 10.25], ['09', 5.58], ['02', 23.81], ['15', 38.59], ['16', 16.8], ['22', 6.75], ['10', 13.44], ['05', 10.09], ['13', 14.74], ['12', 9.41], ['21', 16.01], ['07', 7.85], ['18', 13.2], ['20', 21.52], ['03', 7.8], ['17', 11.46], ['01', 11.38], ['11', 11.05], ['19', 10.8], ['06', 9.02], ['04', 7.17], ['23', 7.99], ['00', 8.13], ['14', 13.23]]\n"
     ]
    }
   ],
   "source": [
    "print(avg_by_hour)"
   ]
  },
  {
   "cell_type": "code",
   "execution_count": 13,
   "metadata": {
    "collapsed": false
   },
   "outputs": [
    {
     "name": "stdout",
     "output_type": "stream",
     "text": [
      "Top 5 Hours for \"Ask Post\" Comments\n",
      "15 : 38.59 average comments per post\n",
      "02 : 23.81 average comments per post\n",
      "20 : 21.52 average comments per post\n",
      "16 : 16.8 average comments per post\n",
      "21 : 16.01 average comments per post\n"
     ]
    }
   ],
   "source": [
    "# Now we swap the values on each list (In order to sort them by average number of comments)   \n",
    "\n",
    "swap_avg_by_hour = []\n",
    "\n",
    "for row in avg_by_hour:\n",
    "    swap_avg_by_hour.append([row[1], row[0]])\n",
    "    \n",
    "sorted_swap = sorted(swap_avg_by_hour, reverse = True)\n",
    "\n",
    "# Printing the first five results\n",
    "\n",
    "print('Top 5 Hours for \"Ask Post\" Comments')\n",
    "\n",
    "for row in sorted_swap[0:5]:\n",
    "    average = row[0]\n",
    "    hour = row[1]\n",
    "    hour = dt.datetime.strptime(hour, '%H')\n",
    "    hour = dt.datetime.strftime(hour, '%H')\n",
    "    print('{} : {} average comments per post'.format(hour, average))"
   ]
  },
  {
   "cell_type": "code",
   "execution_count": null,
   "metadata": {
    "collapsed": true
   },
   "outputs": [],
   "source": []
  }
 ],
 "metadata": {
  "kernelspec": {
   "display_name": "Python 3",
   "language": "python",
   "name": "python3"
  },
  "language_info": {
   "codemirror_mode": {
    "name": "ipython",
    "version": 3
   },
   "file_extension": ".py",
   "mimetype": "text/x-python",
   "name": "python",
   "nbconvert_exporter": "python",
   "pygments_lexer": "ipython3",
   "version": "3.4.3"
  }
 },
 "nbformat": 4,
 "nbformat_minor": 2
}
