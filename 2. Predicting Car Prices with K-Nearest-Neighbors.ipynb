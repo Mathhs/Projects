{
  "nbformat": 4,
  "nbformat_minor": 0,
  "metadata": {
    "colab": {
      "name": "1. Predicting Car Prices with K-Nearest Neighbors",
      "provenance": [],
      "toc_visible": true
    },
    "kernelspec": {
      "name": "python3",
      "display_name": "Python 3"
    }
  },
  "cells": [
    {
      "cell_type": "markdown",
      "metadata": {
        "id": "3NC-pEHgvod1",
        "colab_type": "text"
      },
      "source": [
        "# Predicting Car Prices with K-Nearest Neighbors\n",
        "\n",
        "This project stems from the 'Data Scientist' path on [Dataquest](https://www.dataquest.io/). The data used can be found [here](https://archive.ics.uci.edu/ml/datasets/automobile). \n",
        "\n",
        "Date of completion: 05/29/2020"
      ]
    },
    {
      "cell_type": "code",
      "metadata": {
        "id": "Ap8c_vbe58-F",
        "colab_type": "code",
        "outputId": "b2c53370-27f3-4fb7-b671-88095998ac31",
        "colab": {
          "resources": {
            "http://localhost:8080/nbextensions/google.colab/files.js": {
              "data": "Ly8gQ29weXJpZ2h0IDIwMTcgR29vZ2xlIExMQwovLwovLyBMaWNlbnNlZCB1bmRlciB0aGUgQXBhY2hlIExpY2Vuc2UsIFZlcnNpb24gMi4wICh0aGUgIkxpY2Vuc2UiKTsKLy8geW91IG1heSBub3QgdXNlIHRoaXMgZmlsZSBleGNlcHQgaW4gY29tcGxpYW5jZSB3aXRoIHRoZSBMaWNlbnNlLgovLyBZb3UgbWF5IG9idGFpbiBhIGNvcHkgb2YgdGhlIExpY2Vuc2UgYXQKLy8KLy8gICAgICBodHRwOi8vd3d3LmFwYWNoZS5vcmcvbGljZW5zZXMvTElDRU5TRS0yLjAKLy8KLy8gVW5sZXNzIHJlcXVpcmVkIGJ5IGFwcGxpY2FibGUgbGF3IG9yIGFncmVlZCB0byBpbiB3cml0aW5nLCBzb2Z0d2FyZQovLyBkaXN0cmlidXRlZCB1bmRlciB0aGUgTGljZW5zZSBpcyBkaXN0cmlidXRlZCBvbiBhbiAiQVMgSVMiIEJBU0lTLAovLyBXSVRIT1VUIFdBUlJBTlRJRVMgT1IgQ09ORElUSU9OUyBPRiBBTlkgS0lORCwgZWl0aGVyIGV4cHJlc3Mgb3IgaW1wbGllZC4KLy8gU2VlIHRoZSBMaWNlbnNlIGZvciB0aGUgc3BlY2lmaWMgbGFuZ3VhZ2UgZ292ZXJuaW5nIHBlcm1pc3Npb25zIGFuZAovLyBsaW1pdGF0aW9ucyB1bmRlciB0aGUgTGljZW5zZS4KCi8qKgogKiBAZmlsZW92ZXJ2aWV3IEhlbHBlcnMgZm9yIGdvb2dsZS5jb2xhYiBQeXRob24gbW9kdWxlLgogKi8KKGZ1bmN0aW9uKHNjb3BlKSB7CmZ1bmN0aW9uIHNwYW4odGV4dCwgc3R5bGVBdHRyaWJ1dGVzID0ge30pIHsKICBjb25zdCBlbGVtZW50ID0gZG9jdW1lbnQuY3JlYXRlRWxlbWVudCgnc3BhbicpOwogIGVsZW1lbnQudGV4dENvbnRlbnQgPSB0ZXh0OwogIGZvciAoY29uc3Qga2V5IG9mIE9iamVjdC5rZXlzKHN0eWxlQXR0cmlidXRlcykpIHsKICAgIGVsZW1lbnQuc3R5bGVba2V5XSA9IHN0eWxlQXR0cmlidXRlc1trZXldOwogIH0KICByZXR1cm4gZWxlbWVudDsKfQoKLy8gTWF4IG51bWJlciBvZiBieXRlcyB3aGljaCB3aWxsIGJlIHVwbG9hZGVkIGF0IGEgdGltZS4KY29uc3QgTUFYX1BBWUxPQURfU0laRSA9IDEwMCAqIDEwMjQ7Ci8vIE1heCBhbW91bnQgb2YgdGltZSB0byBibG9jayB3YWl0aW5nIGZvciB0aGUgdXNlci4KY29uc3QgRklMRV9DSEFOR0VfVElNRU9VVF9NUyA9IDMwICogMTAwMDsKCmZ1bmN0aW9uIF91cGxvYWRGaWxlcyhpbnB1dElkLCBvdXRwdXRJZCkgewogIGNvbnN0IHN0ZXBzID0gdXBsb2FkRmlsZXNTdGVwKGlucHV0SWQsIG91dHB1dElkKTsKICBjb25zdCBvdXRwdXRFbGVtZW50ID0gZG9jdW1lbnQuZ2V0RWxlbWVudEJ5SWQob3V0cHV0SWQpOwogIC8vIENhY2hlIHN0ZXBzIG9uIHRoZSBvdXRwdXRFbGVtZW50IHRvIG1ha2UgaXQgYXZhaWxhYmxlIGZvciB0aGUgbmV4dCBjYWxsCiAgLy8gdG8gdXBsb2FkRmlsZXNDb250aW51ZSBmcm9tIFB5dGhvbi4KICBvdXRwdXRFbGVtZW50LnN0ZXBzID0gc3RlcHM7CgogIHJldHVybiBfdXBsb2FkRmlsZXNDb250aW51ZShvdXRwdXRJZCk7Cn0KCi8vIFRoaXMgaXMgcm91Z2hseSBhbiBhc3luYyBnZW5lcmF0b3IgKG5vdCBzdXBwb3J0ZWQgaW4gdGhlIGJyb3dzZXIgeWV0KSwKLy8gd2hlcmUgdGhlcmUgYXJlIG11bHRpcGxlIGFzeW5jaHJvbm91cyBzdGVwcyBhbmQgdGhlIFB5dGhvbiBzaWRlIGlzIGdvaW5nCi8vIHRvIHBvbGwgZm9yIGNvbXBsZXRpb24gb2YgZWFjaCBzdGVwLgovLyBUaGlzIHVzZXMgYSBQcm9taXNlIHRvIGJsb2NrIHRoZSBweXRob24gc2lkZSBvbiBjb21wbGV0aW9uIG9mIGVhY2ggc3RlcCwKLy8gdGhlbiBwYXNzZXMgdGhlIHJlc3VsdCBvZiB0aGUgcHJldmlvdXMgc3RlcCBhcyB0aGUgaW5wdXQgdG8gdGhlIG5leHQgc3RlcC4KZnVuY3Rpb24gX3VwbG9hZEZpbGVzQ29udGludWUob3V0cHV0SWQpIHsKICBjb25zdCBvdXRwdXRFbGVtZW50ID0gZG9jdW1lbnQuZ2V0RWxlbWVudEJ5SWQob3V0cHV0SWQpOwogIGNvbnN0IHN0ZXBzID0gb3V0cHV0RWxlbWVudC5zdGVwczsKCiAgY29uc3QgbmV4dCA9IHN0ZXBzLm5leHQob3V0cHV0RWxlbWVudC5sYXN0UHJvbWlzZVZhbHVlKTsKICByZXR1cm4gUHJvbWlzZS5yZXNvbHZlKG5leHQudmFsdWUucHJvbWlzZSkudGhlbigodmFsdWUpID0+IHsKICAgIC8vIENhY2hlIHRoZSBsYXN0IHByb21pc2UgdmFsdWUgdG8gbWFrZSBpdCBhdmFpbGFibGUgdG8gdGhlIG5leHQKICAgIC8vIHN0ZXAgb2YgdGhlIGdlbmVyYXRvci4KICAgIG91dHB1dEVsZW1lbnQubGFzdFByb21pc2VWYWx1ZSA9IHZhbHVlOwogICAgcmV0dXJuIG5leHQudmFsdWUucmVzcG9uc2U7CiAgfSk7Cn0KCi8qKgogKiBHZW5lcmF0b3IgZnVuY3Rpb24gd2hpY2ggaXMgY2FsbGVkIGJldHdlZW4gZWFjaCBhc3luYyBzdGVwIG9mIHRoZSB1cGxvYWQKICogcHJvY2Vzcy4KICogQHBhcmFtIHtzdHJpbmd9IGlucHV0SWQgRWxlbWVudCBJRCBvZiB0aGUgaW5wdXQgZmlsZSBwaWNrZXIgZWxlbWVudC4KICogQHBhcmFtIHtzdHJpbmd9IG91dHB1dElkIEVsZW1lbnQgSUQgb2YgdGhlIG91dHB1dCBkaXNwbGF5LgogKiBAcmV0dXJuIHshSXRlcmFibGU8IU9iamVjdD59IEl0ZXJhYmxlIG9mIG5leHQgc3RlcHMuCiAqLwpmdW5jdGlvbiogdXBsb2FkRmlsZXNTdGVwKGlucHV0SWQsIG91dHB1dElkKSB7CiAgY29uc3QgaW5wdXRFbGVtZW50ID0gZG9jdW1lbnQuZ2V0RWxlbWVudEJ5SWQoaW5wdXRJZCk7CiAgaW5wdXRFbGVtZW50LmRpc2FibGVkID0gZmFsc2U7CgogIGNvbnN0IG91dHB1dEVsZW1lbnQgPSBkb2N1bWVudC5nZXRFbGVtZW50QnlJZChvdXRwdXRJZCk7CiAgb3V0cHV0RWxlbWVudC5pbm5lckhUTUwgPSAnJzsKCiAgY29uc3QgcGlja2VkUHJvbWlzZSA9IG5ldyBQcm9taXNlKChyZXNvbHZlKSA9PiB7CiAgICBpbnB1dEVsZW1lbnQuYWRkRXZlbnRMaXN0ZW5lcignY2hhbmdlJywgKGUpID0+IHsKICAgICAgcmVzb2x2ZShlLnRhcmdldC5maWxlcyk7CiAgICB9KTsKICB9KTsKCiAgY29uc3QgY2FuY2VsID0gZG9jdW1lbnQuY3JlYXRlRWxlbWVudCgnYnV0dG9uJyk7CiAgaW5wdXRFbGVtZW50LnBhcmVudEVsZW1lbnQuYXBwZW5kQ2hpbGQoY2FuY2VsKTsKICBjYW5jZWwudGV4dENvbnRlbnQgPSAnQ2FuY2VsIHVwbG9hZCc7CiAgY29uc3QgY2FuY2VsUHJvbWlzZSA9IG5ldyBQcm9taXNlKChyZXNvbHZlKSA9PiB7CiAgICBjYW5jZWwub25jbGljayA9ICgpID0+IHsKICAgICAgcmVzb2x2ZShudWxsKTsKICAgIH07CiAgfSk7CgogIC8vIENhbmNlbCB1cGxvYWQgaWYgdXNlciBoYXNuJ3QgcGlja2VkIGFueXRoaW5nIGluIHRpbWVvdXQuCiAgY29uc3QgdGltZW91dFByb21pc2UgPSBuZXcgUHJvbWlzZSgocmVzb2x2ZSkgPT4gewogICAgc2V0VGltZW91dCgoKSA9PiB7CiAgICAgIHJlc29sdmUobnVsbCk7CiAgICB9LCBGSUxFX0NIQU5HRV9USU1FT1VUX01TKTsKICB9KTsKCiAgLy8gV2FpdCBmb3IgdGhlIHVzZXIgdG8gcGljayB0aGUgZmlsZXMuCiAgY29uc3QgZmlsZXMgPSB5aWVsZCB7CiAgICBwcm9taXNlOiBQcm9taXNlLnJhY2UoW3BpY2tlZFByb21pc2UsIHRpbWVvdXRQcm9taXNlLCBjYW5jZWxQcm9taXNlXSksCiAgICByZXNwb25zZTogewogICAgICBhY3Rpb246ICdzdGFydGluZycsCiAgICB9CiAgfTsKCiAgaWYgKCFmaWxlcykgewogICAgcmV0dXJuIHsKICAgICAgcmVzcG9uc2U6IHsKICAgICAgICBhY3Rpb246ICdjb21wbGV0ZScsCiAgICAgIH0KICAgIH07CiAgfQoKICBjYW5jZWwucmVtb3ZlKCk7CgogIC8vIERpc2FibGUgdGhlIGlucHV0IGVsZW1lbnQgc2luY2UgZnVydGhlciBwaWNrcyBhcmUgbm90IGFsbG93ZWQuCiAgaW5wdXRFbGVtZW50LmRpc2FibGVkID0gdHJ1ZTsKCiAgZm9yIChjb25zdCBmaWxlIG9mIGZpbGVzKSB7CiAgICBjb25zdCBsaSA9IGRvY3VtZW50LmNyZWF0ZUVsZW1lbnQoJ2xpJyk7CiAgICBsaS5hcHBlbmQoc3BhbihmaWxlLm5hbWUsIHtmb250V2VpZ2h0OiAnYm9sZCd9KSk7CiAgICBsaS5hcHBlbmQoc3BhbigKICAgICAgICBgKCR7ZmlsZS50eXBlIHx8ICduL2EnfSkgLSAke2ZpbGUuc2l6ZX0gYnl0ZXMsIGAgKwogICAgICAgIGBsYXN0IG1vZGlmaWVkOiAkewogICAgICAgICAgICBmaWxlLmxhc3RNb2RpZmllZERhdGUgPyBmaWxlLmxhc3RNb2RpZmllZERhdGUudG9Mb2NhbGVEYXRlU3RyaW5nKCkgOgogICAgICAgICAgICAgICAgICAgICAgICAgICAgICAgICAgICAnbi9hJ30gLSBgKSk7CiAgICBjb25zdCBwZXJjZW50ID0gc3BhbignMCUgZG9uZScpOwogICAgbGkuYXBwZW5kQ2hpbGQocGVyY2VudCk7CgogICAgb3V0cHV0RWxlbWVudC5hcHBlbmRDaGlsZChsaSk7CgogICAgY29uc3QgZmlsZURhdGFQcm9taXNlID0gbmV3IFByb21pc2UoKHJlc29sdmUpID0+IHsKICAgICAgY29uc3QgcmVhZGVyID0gbmV3IEZpbGVSZWFkZXIoKTsKICAgICAgcmVhZGVyLm9ubG9hZCA9IChlKSA9PiB7CiAgICAgICAgcmVzb2x2ZShlLnRhcmdldC5yZXN1bHQpOwogICAgICB9OwogICAgICByZWFkZXIucmVhZEFzQXJyYXlCdWZmZXIoZmlsZSk7CiAgICB9KTsKICAgIC8vIFdhaXQgZm9yIHRoZSBkYXRhIHRvIGJlIHJlYWR5LgogICAgbGV0IGZpbGVEYXRhID0geWllbGQgewogICAgICBwcm9taXNlOiBmaWxlRGF0YVByb21pc2UsCiAgICAgIHJlc3BvbnNlOiB7CiAgICAgICAgYWN0aW9uOiAnY29udGludWUnLAogICAgICB9CiAgICB9OwoKICAgIC8vIFVzZSBhIGNodW5rZWQgc2VuZGluZyB0byBhdm9pZCBtZXNzYWdlIHNpemUgbGltaXRzLiBTZWUgYi82MjExNTY2MC4KICAgIGxldCBwb3NpdGlvbiA9IDA7CiAgICB3aGlsZSAocG9zaXRpb24gPCBmaWxlRGF0YS5ieXRlTGVuZ3RoKSB7CiAgICAgIGNvbnN0IGxlbmd0aCA9IE1hdGgubWluKGZpbGVEYXRhLmJ5dGVMZW5ndGggLSBwb3NpdGlvbiwgTUFYX1BBWUxPQURfU0laRSk7CiAgICAgIGNvbnN0IGNodW5rID0gbmV3IFVpbnQ4QXJyYXkoZmlsZURhdGEsIHBvc2l0aW9uLCBsZW5ndGgpOwogICAgICBwb3NpdGlvbiArPSBsZW5ndGg7CgogICAgICBjb25zdCBiYXNlNjQgPSBidG9hKFN0cmluZy5mcm9tQ2hhckNvZGUuYXBwbHkobnVsbCwgY2h1bmspKTsKICAgICAgeWllbGQgewogICAgICAgIHJlc3BvbnNlOiB7CiAgICAgICAgICBhY3Rpb246ICdhcHBlbmQnLAogICAgICAgICAgZmlsZTogZmlsZS5uYW1lLAogICAgICAgICAgZGF0YTogYmFzZTY0LAogICAgICAgIH0sCiAgICAgIH07CiAgICAgIHBlcmNlbnQudGV4dENvbnRlbnQgPQogICAgICAgICAgYCR7TWF0aC5yb3VuZCgocG9zaXRpb24gLyBmaWxlRGF0YS5ieXRlTGVuZ3RoKSAqIDEwMCl9JSBkb25lYDsKICAgIH0KICB9CgogIC8vIEFsbCBkb25lLgogIHlpZWxkIHsKICAgIHJlc3BvbnNlOiB7CiAgICAgIGFjdGlvbjogJ2NvbXBsZXRlJywKICAgIH0KICB9Owp9CgpzY29wZS5nb29nbGUgPSBzY29wZS5nb29nbGUgfHwge307CnNjb3BlLmdvb2dsZS5jb2xhYiA9IHNjb3BlLmdvb2dsZS5jb2xhYiB8fCB7fTsKc2NvcGUuZ29vZ2xlLmNvbGFiLl9maWxlcyA9IHsKICBfdXBsb2FkRmlsZXMsCiAgX3VwbG9hZEZpbGVzQ29udGludWUsCn07Cn0pKHNlbGYpOwo=",
              "ok": true,
              "headers": [
                [
                  "content-type",
                  "application/javascript"
                ]
              ],
              "status": 200,
              "status_text": ""
            }
          },
          "base_uri": "https://localhost:8080/",
          "height": 74
        }
      },
      "source": [
        "from google.colab import files\n",
        "uploaded = files.upload()"
      ],
      "execution_count": 1,
      "outputs": [
        {
          "output_type": "display_data",
          "data": {
            "text/html": [
              "\n",
              "     <input type=\"file\" id=\"files-93b718dd-dea9-4a34-9045-f9cce8448bf7\" name=\"files[]\" multiple disabled />\n",
              "     <output id=\"result-93b718dd-dea9-4a34-9045-f9cce8448bf7\">\n",
              "      Upload widget is only available when the cell has been executed in the\n",
              "      current browser session. Please rerun this cell to enable.\n",
              "      </output>\n",
              "      <script src=\"/nbextensions/google.colab/files.js\"></script> "
            ],
            "text/plain": [
              "<IPython.core.display.HTML object>"
            ]
          },
          "metadata": {
            "tags": []
          }
        },
        {
          "output_type": "stream",
          "text": [
            "Saving imports-85.data to imports-85 (2).data\n"
          ],
          "name": "stdout"
        }
      ]
    },
    {
      "cell_type": "code",
      "metadata": {
        "id": "mKyRNOTs6U0y",
        "colab_type": "code",
        "colab": {}
      },
      "source": [
        "import io\n",
        "\n",
        "import pandas as pd \n",
        "\n",
        "import numpy as np\n",
        "\n",
        "cols = ['symboling', 'normalized-losses', 'make', 'fuel-type', 'aspiration', 'num-of-doors', 'body-style', \n",
        "        'drive-wheels', 'engine-location', 'wheel-base', 'length', 'width', 'height', 'curb-weight', 'engine-type', \n",
        "        'num-of-cylinders', 'engine-size', 'fuel-system', 'bore', 'stroke', 'compression-rate', 'horsepower', 'peak-rpm', 'city-mpg', 'highway-mpg', 'price']\n",
        "\n",
        "cars = pd.read_csv((io.BytesIO(uploaded['imports-85.data'])), names=cols)"
      ],
      "execution_count": 0,
      "outputs": []
    },
    {
      "cell_type": "code",
      "metadata": {
        "id": "gzkH1_rS6izL",
        "colab_type": "code",
        "outputId": "04739ca3-28b9-491e-e72e-f132035db6c4",
        "colab": {
          "base_uri": "https://localhost:8080/",
          "height": 299
        }
      },
      "source": [
        "cars.head()"
      ],
      "execution_count": 3,
      "outputs": [
        {
          "output_type": "execute_result",
          "data": {
            "text/html": [
              "<div>\n",
              "<style scoped>\n",
              "    .dataframe tbody tr th:only-of-type {\n",
              "        vertical-align: middle;\n",
              "    }\n",
              "\n",
              "    .dataframe tbody tr th {\n",
              "        vertical-align: top;\n",
              "    }\n",
              "\n",
              "    .dataframe thead th {\n",
              "        text-align: right;\n",
              "    }\n",
              "</style>\n",
              "<table border=\"1\" class=\"dataframe\">\n",
              "  <thead>\n",
              "    <tr style=\"text-align: right;\">\n",
              "      <th></th>\n",
              "      <th>symboling</th>\n",
              "      <th>normalized-losses</th>\n",
              "      <th>make</th>\n",
              "      <th>fuel-type</th>\n",
              "      <th>aspiration</th>\n",
              "      <th>num-of-doors</th>\n",
              "      <th>body-style</th>\n",
              "      <th>drive-wheels</th>\n",
              "      <th>engine-location</th>\n",
              "      <th>wheel-base</th>\n",
              "      <th>length</th>\n",
              "      <th>width</th>\n",
              "      <th>height</th>\n",
              "      <th>curb-weight</th>\n",
              "      <th>engine-type</th>\n",
              "      <th>num-of-cylinders</th>\n",
              "      <th>engine-size</th>\n",
              "      <th>fuel-system</th>\n",
              "      <th>bore</th>\n",
              "      <th>stroke</th>\n",
              "      <th>compression-rate</th>\n",
              "      <th>horsepower</th>\n",
              "      <th>peak-rpm</th>\n",
              "      <th>city-mpg</th>\n",
              "      <th>highway-mpg</th>\n",
              "      <th>price</th>\n",
              "    </tr>\n",
              "  </thead>\n",
              "  <tbody>\n",
              "    <tr>\n",
              "      <th>0</th>\n",
              "      <td>3</td>\n",
              "      <td>?</td>\n",
              "      <td>alfa-romero</td>\n",
              "      <td>gas</td>\n",
              "      <td>std</td>\n",
              "      <td>two</td>\n",
              "      <td>convertible</td>\n",
              "      <td>rwd</td>\n",
              "      <td>front</td>\n",
              "      <td>88.6</td>\n",
              "      <td>168.8</td>\n",
              "      <td>64.1</td>\n",
              "      <td>48.8</td>\n",
              "      <td>2548</td>\n",
              "      <td>dohc</td>\n",
              "      <td>four</td>\n",
              "      <td>130</td>\n",
              "      <td>mpfi</td>\n",
              "      <td>3.47</td>\n",
              "      <td>2.68</td>\n",
              "      <td>9.0</td>\n",
              "      <td>111</td>\n",
              "      <td>5000</td>\n",
              "      <td>21</td>\n",
              "      <td>27</td>\n",
              "      <td>13495</td>\n",
              "    </tr>\n",
              "    <tr>\n",
              "      <th>1</th>\n",
              "      <td>3</td>\n",
              "      <td>?</td>\n",
              "      <td>alfa-romero</td>\n",
              "      <td>gas</td>\n",
              "      <td>std</td>\n",
              "      <td>two</td>\n",
              "      <td>convertible</td>\n",
              "      <td>rwd</td>\n",
              "      <td>front</td>\n",
              "      <td>88.6</td>\n",
              "      <td>168.8</td>\n",
              "      <td>64.1</td>\n",
              "      <td>48.8</td>\n",
              "      <td>2548</td>\n",
              "      <td>dohc</td>\n",
              "      <td>four</td>\n",
              "      <td>130</td>\n",
              "      <td>mpfi</td>\n",
              "      <td>3.47</td>\n",
              "      <td>2.68</td>\n",
              "      <td>9.0</td>\n",
              "      <td>111</td>\n",
              "      <td>5000</td>\n",
              "      <td>21</td>\n",
              "      <td>27</td>\n",
              "      <td>16500</td>\n",
              "    </tr>\n",
              "    <tr>\n",
              "      <th>2</th>\n",
              "      <td>1</td>\n",
              "      <td>?</td>\n",
              "      <td>alfa-romero</td>\n",
              "      <td>gas</td>\n",
              "      <td>std</td>\n",
              "      <td>two</td>\n",
              "      <td>hatchback</td>\n",
              "      <td>rwd</td>\n",
              "      <td>front</td>\n",
              "      <td>94.5</td>\n",
              "      <td>171.2</td>\n",
              "      <td>65.5</td>\n",
              "      <td>52.4</td>\n",
              "      <td>2823</td>\n",
              "      <td>ohcv</td>\n",
              "      <td>six</td>\n",
              "      <td>152</td>\n",
              "      <td>mpfi</td>\n",
              "      <td>2.68</td>\n",
              "      <td>3.47</td>\n",
              "      <td>9.0</td>\n",
              "      <td>154</td>\n",
              "      <td>5000</td>\n",
              "      <td>19</td>\n",
              "      <td>26</td>\n",
              "      <td>16500</td>\n",
              "    </tr>\n",
              "    <tr>\n",
              "      <th>3</th>\n",
              "      <td>2</td>\n",
              "      <td>164</td>\n",
              "      <td>audi</td>\n",
              "      <td>gas</td>\n",
              "      <td>std</td>\n",
              "      <td>four</td>\n",
              "      <td>sedan</td>\n",
              "      <td>fwd</td>\n",
              "      <td>front</td>\n",
              "      <td>99.8</td>\n",
              "      <td>176.6</td>\n",
              "      <td>66.2</td>\n",
              "      <td>54.3</td>\n",
              "      <td>2337</td>\n",
              "      <td>ohc</td>\n",
              "      <td>four</td>\n",
              "      <td>109</td>\n",
              "      <td>mpfi</td>\n",
              "      <td>3.19</td>\n",
              "      <td>3.40</td>\n",
              "      <td>10.0</td>\n",
              "      <td>102</td>\n",
              "      <td>5500</td>\n",
              "      <td>24</td>\n",
              "      <td>30</td>\n",
              "      <td>13950</td>\n",
              "    </tr>\n",
              "    <tr>\n",
              "      <th>4</th>\n",
              "      <td>2</td>\n",
              "      <td>164</td>\n",
              "      <td>audi</td>\n",
              "      <td>gas</td>\n",
              "      <td>std</td>\n",
              "      <td>four</td>\n",
              "      <td>sedan</td>\n",
              "      <td>4wd</td>\n",
              "      <td>front</td>\n",
              "      <td>99.4</td>\n",
              "      <td>176.6</td>\n",
              "      <td>66.4</td>\n",
              "      <td>54.3</td>\n",
              "      <td>2824</td>\n",
              "      <td>ohc</td>\n",
              "      <td>five</td>\n",
              "      <td>136</td>\n",
              "      <td>mpfi</td>\n",
              "      <td>3.19</td>\n",
              "      <td>3.40</td>\n",
              "      <td>8.0</td>\n",
              "      <td>115</td>\n",
              "      <td>5500</td>\n",
              "      <td>18</td>\n",
              "      <td>22</td>\n",
              "      <td>17450</td>\n",
              "    </tr>\n",
              "  </tbody>\n",
              "</table>\n",
              "</div>"
            ],
            "text/plain": [
              "   symboling normalized-losses         make  ... city-mpg highway-mpg  price\n",
              "0          3                 ?  alfa-romero  ...       21          27  13495\n",
              "1          3                 ?  alfa-romero  ...       21          27  16500\n",
              "2          1                 ?  alfa-romero  ...       19          26  16500\n",
              "3          2               164         audi  ...       24          30  13950\n",
              "4          2               164         audi  ...       18          22  17450\n",
              "\n",
              "[5 rows x 26 columns]"
            ]
          },
          "metadata": {
            "tags": []
          },
          "execution_count": 3
        }
      ]
    },
    {
      "cell_type": "markdown",
      "metadata": {
        "id": "zefGmBV67jQ7",
        "colab_type": "text"
      },
      "source": [
        "After inspecting each column, we see only the following are strictly numeric and thus useful to our algorithm: \n",
        "\n",
        "'normalized-losses', 'wheel-base', 'length', 'width', 'height', 'curb-weight', 'bore', 'stroke', 'compression-rate', 'horsepower', 'peak-rpm', 'city-mpg', 'highway-mpg', 'price'"
      ]
    },
    {
      "cell_type": "code",
      "metadata": {
        "id": "_85I3Xqk6j4b",
        "colab_type": "code",
        "outputId": "086cc1c1-c167-4ecc-8a9d-33d97121e8b6",
        "colab": {
          "base_uri": "https://localhost:8080/",
          "height": 212
        }
      },
      "source": [
        "num_cols = ['normalized-losses', 'wheel-base', 'length', 'width', 'height', 'curb-weight', 'bore', 'stroke', 'compression-rate', 'horsepower', 'peak-rpm', 'city-mpg', 'highway-mpg', 'price']\n",
        "\n",
        "numeric_cars = cars[num_cols]\n",
        "\n",
        "numeric_cars.head()\n"
      ],
      "execution_count": 4,
      "outputs": [
        {
          "output_type": "execute_result",
          "data": {
            "text/html": [
              "<div>\n",
              "<style scoped>\n",
              "    .dataframe tbody tr th:only-of-type {\n",
              "        vertical-align: middle;\n",
              "    }\n",
              "\n",
              "    .dataframe tbody tr th {\n",
              "        vertical-align: top;\n",
              "    }\n",
              "\n",
              "    .dataframe thead th {\n",
              "        text-align: right;\n",
              "    }\n",
              "</style>\n",
              "<table border=\"1\" class=\"dataframe\">\n",
              "  <thead>\n",
              "    <tr style=\"text-align: right;\">\n",
              "      <th></th>\n",
              "      <th>normalized-losses</th>\n",
              "      <th>wheel-base</th>\n",
              "      <th>length</th>\n",
              "      <th>width</th>\n",
              "      <th>height</th>\n",
              "      <th>curb-weight</th>\n",
              "      <th>bore</th>\n",
              "      <th>stroke</th>\n",
              "      <th>compression-rate</th>\n",
              "      <th>horsepower</th>\n",
              "      <th>peak-rpm</th>\n",
              "      <th>city-mpg</th>\n",
              "      <th>highway-mpg</th>\n",
              "      <th>price</th>\n",
              "    </tr>\n",
              "  </thead>\n",
              "  <tbody>\n",
              "    <tr>\n",
              "      <th>0</th>\n",
              "      <td>?</td>\n",
              "      <td>88.6</td>\n",
              "      <td>168.8</td>\n",
              "      <td>64.1</td>\n",
              "      <td>48.8</td>\n",
              "      <td>2548</td>\n",
              "      <td>3.47</td>\n",
              "      <td>2.68</td>\n",
              "      <td>9.0</td>\n",
              "      <td>111</td>\n",
              "      <td>5000</td>\n",
              "      <td>21</td>\n",
              "      <td>27</td>\n",
              "      <td>13495</td>\n",
              "    </tr>\n",
              "    <tr>\n",
              "      <th>1</th>\n",
              "      <td>?</td>\n",
              "      <td>88.6</td>\n",
              "      <td>168.8</td>\n",
              "      <td>64.1</td>\n",
              "      <td>48.8</td>\n",
              "      <td>2548</td>\n",
              "      <td>3.47</td>\n",
              "      <td>2.68</td>\n",
              "      <td>9.0</td>\n",
              "      <td>111</td>\n",
              "      <td>5000</td>\n",
              "      <td>21</td>\n",
              "      <td>27</td>\n",
              "      <td>16500</td>\n",
              "    </tr>\n",
              "    <tr>\n",
              "      <th>2</th>\n",
              "      <td>?</td>\n",
              "      <td>94.5</td>\n",
              "      <td>171.2</td>\n",
              "      <td>65.5</td>\n",
              "      <td>52.4</td>\n",
              "      <td>2823</td>\n",
              "      <td>2.68</td>\n",
              "      <td>3.47</td>\n",
              "      <td>9.0</td>\n",
              "      <td>154</td>\n",
              "      <td>5000</td>\n",
              "      <td>19</td>\n",
              "      <td>26</td>\n",
              "      <td>16500</td>\n",
              "    </tr>\n",
              "    <tr>\n",
              "      <th>3</th>\n",
              "      <td>164</td>\n",
              "      <td>99.8</td>\n",
              "      <td>176.6</td>\n",
              "      <td>66.2</td>\n",
              "      <td>54.3</td>\n",
              "      <td>2337</td>\n",
              "      <td>3.19</td>\n",
              "      <td>3.40</td>\n",
              "      <td>10.0</td>\n",
              "      <td>102</td>\n",
              "      <td>5500</td>\n",
              "      <td>24</td>\n",
              "      <td>30</td>\n",
              "      <td>13950</td>\n",
              "    </tr>\n",
              "    <tr>\n",
              "      <th>4</th>\n",
              "      <td>164</td>\n",
              "      <td>99.4</td>\n",
              "      <td>176.6</td>\n",
              "      <td>66.4</td>\n",
              "      <td>54.3</td>\n",
              "      <td>2824</td>\n",
              "      <td>3.19</td>\n",
              "      <td>3.40</td>\n",
              "      <td>8.0</td>\n",
              "      <td>115</td>\n",
              "      <td>5500</td>\n",
              "      <td>18</td>\n",
              "      <td>22</td>\n",
              "      <td>17450</td>\n",
              "    </tr>\n",
              "  </tbody>\n",
              "</table>\n",
              "</div>"
            ],
            "text/plain": [
              "  normalized-losses  wheel-base  length  ...  city-mpg  highway-mpg  price\n",
              "0                 ?        88.6   168.8  ...        21           27  13495\n",
              "1                 ?        88.6   168.8  ...        21           27  16500\n",
              "2                 ?        94.5   171.2  ...        19           26  16500\n",
              "3               164        99.8   176.6  ...        24           30  13950\n",
              "4               164        99.4   176.6  ...        18           22  17450\n",
              "\n",
              "[5 rows x 14 columns]"
            ]
          },
          "metadata": {
            "tags": []
          },
          "execution_count": 4
        }
      ]
    },
    {
      "cell_type": "markdown",
      "metadata": {
        "id": "gD-EXbTr9She",
        "colab_type": "text"
      },
      "source": [
        "# 1. Data Cleaning"
      ]
    },
    {
      "cell_type": "code",
      "metadata": {
        "id": "0ALK34w-8hkR",
        "colab_type": "code",
        "outputId": "1361983c-e02c-4bd4-9ace-304696c1b3a6",
        "colab": {
          "base_uri": "https://localhost:8080/",
          "height": 212
        }
      },
      "source": [
        "numeric_cars = numeric_cars.replace('?',np.nan)\n",
        "\n",
        "numeric_cars.head()"
      ],
      "execution_count": 5,
      "outputs": [
        {
          "output_type": "execute_result",
          "data": {
            "text/html": [
              "<div>\n",
              "<style scoped>\n",
              "    .dataframe tbody tr th:only-of-type {\n",
              "        vertical-align: middle;\n",
              "    }\n",
              "\n",
              "    .dataframe tbody tr th {\n",
              "        vertical-align: top;\n",
              "    }\n",
              "\n",
              "    .dataframe thead th {\n",
              "        text-align: right;\n",
              "    }\n",
              "</style>\n",
              "<table border=\"1\" class=\"dataframe\">\n",
              "  <thead>\n",
              "    <tr style=\"text-align: right;\">\n",
              "      <th></th>\n",
              "      <th>normalized-losses</th>\n",
              "      <th>wheel-base</th>\n",
              "      <th>length</th>\n",
              "      <th>width</th>\n",
              "      <th>height</th>\n",
              "      <th>curb-weight</th>\n",
              "      <th>bore</th>\n",
              "      <th>stroke</th>\n",
              "      <th>compression-rate</th>\n",
              "      <th>horsepower</th>\n",
              "      <th>peak-rpm</th>\n",
              "      <th>city-mpg</th>\n",
              "      <th>highway-mpg</th>\n",
              "      <th>price</th>\n",
              "    </tr>\n",
              "  </thead>\n",
              "  <tbody>\n",
              "    <tr>\n",
              "      <th>0</th>\n",
              "      <td>NaN</td>\n",
              "      <td>88.6</td>\n",
              "      <td>168.8</td>\n",
              "      <td>64.1</td>\n",
              "      <td>48.8</td>\n",
              "      <td>2548</td>\n",
              "      <td>3.47</td>\n",
              "      <td>2.68</td>\n",
              "      <td>9.0</td>\n",
              "      <td>111</td>\n",
              "      <td>5000</td>\n",
              "      <td>21</td>\n",
              "      <td>27</td>\n",
              "      <td>13495</td>\n",
              "    </tr>\n",
              "    <tr>\n",
              "      <th>1</th>\n",
              "      <td>NaN</td>\n",
              "      <td>88.6</td>\n",
              "      <td>168.8</td>\n",
              "      <td>64.1</td>\n",
              "      <td>48.8</td>\n",
              "      <td>2548</td>\n",
              "      <td>3.47</td>\n",
              "      <td>2.68</td>\n",
              "      <td>9.0</td>\n",
              "      <td>111</td>\n",
              "      <td>5000</td>\n",
              "      <td>21</td>\n",
              "      <td>27</td>\n",
              "      <td>16500</td>\n",
              "    </tr>\n",
              "    <tr>\n",
              "      <th>2</th>\n",
              "      <td>NaN</td>\n",
              "      <td>94.5</td>\n",
              "      <td>171.2</td>\n",
              "      <td>65.5</td>\n",
              "      <td>52.4</td>\n",
              "      <td>2823</td>\n",
              "      <td>2.68</td>\n",
              "      <td>3.47</td>\n",
              "      <td>9.0</td>\n",
              "      <td>154</td>\n",
              "      <td>5000</td>\n",
              "      <td>19</td>\n",
              "      <td>26</td>\n",
              "      <td>16500</td>\n",
              "    </tr>\n",
              "    <tr>\n",
              "      <th>3</th>\n",
              "      <td>164</td>\n",
              "      <td>99.8</td>\n",
              "      <td>176.6</td>\n",
              "      <td>66.2</td>\n",
              "      <td>54.3</td>\n",
              "      <td>2337</td>\n",
              "      <td>3.19</td>\n",
              "      <td>3.40</td>\n",
              "      <td>10.0</td>\n",
              "      <td>102</td>\n",
              "      <td>5500</td>\n",
              "      <td>24</td>\n",
              "      <td>30</td>\n",
              "      <td>13950</td>\n",
              "    </tr>\n",
              "    <tr>\n",
              "      <th>4</th>\n",
              "      <td>164</td>\n",
              "      <td>99.4</td>\n",
              "      <td>176.6</td>\n",
              "      <td>66.4</td>\n",
              "      <td>54.3</td>\n",
              "      <td>2824</td>\n",
              "      <td>3.19</td>\n",
              "      <td>3.40</td>\n",
              "      <td>8.0</td>\n",
              "      <td>115</td>\n",
              "      <td>5500</td>\n",
              "      <td>18</td>\n",
              "      <td>22</td>\n",
              "      <td>17450</td>\n",
              "    </tr>\n",
              "  </tbody>\n",
              "</table>\n",
              "</div>"
            ],
            "text/plain": [
              "  normalized-losses  wheel-base  length  ...  city-mpg  highway-mpg  price\n",
              "0               NaN        88.6   168.8  ...        21           27  13495\n",
              "1               NaN        88.6   168.8  ...        21           27  16500\n",
              "2               NaN        94.5   171.2  ...        19           26  16500\n",
              "3               164        99.8   176.6  ...        24           30  13950\n",
              "4               164        99.4   176.6  ...        18           22  17450\n",
              "\n",
              "[5 rows x 14 columns]"
            ]
          },
          "metadata": {
            "tags": []
          },
          "execution_count": 5
        }
      ]
    },
    {
      "cell_type": "code",
      "metadata": {
        "id": "Txxm4d2Q9f6C",
        "colab_type": "code",
        "outputId": "13376de8-5862-414e-90c7-c6933fb898ab",
        "colab": {
          "base_uri": "https://localhost:8080/",
          "height": 370
        }
      },
      "source": [
        "numeric_cars = numeric_cars.astype(float)\n",
        "\n",
        "numeric_cars.info()"
      ],
      "execution_count": 6,
      "outputs": [
        {
          "output_type": "stream",
          "text": [
            "<class 'pandas.core.frame.DataFrame'>\n",
            "RangeIndex: 205 entries, 0 to 204\n",
            "Data columns (total 14 columns):\n",
            " #   Column             Non-Null Count  Dtype  \n",
            "---  ------             --------------  -----  \n",
            " 0   normalized-losses  164 non-null    float64\n",
            " 1   wheel-base         205 non-null    float64\n",
            " 2   length             205 non-null    float64\n",
            " 3   width              205 non-null    float64\n",
            " 4   height             205 non-null    float64\n",
            " 5   curb-weight        205 non-null    float64\n",
            " 6   bore               201 non-null    float64\n",
            " 7   stroke             201 non-null    float64\n",
            " 8   compression-rate   205 non-null    float64\n",
            " 9   horsepower         203 non-null    float64\n",
            " 10  peak-rpm           203 non-null    float64\n",
            " 11  city-mpg           205 non-null    float64\n",
            " 12  highway-mpg        205 non-null    float64\n",
            " 13  price              201 non-null    float64\n",
            "dtypes: float64(14)\n",
            "memory usage: 22.5 KB\n"
          ],
          "name": "stdout"
        }
      ]
    },
    {
      "cell_type": "code",
      "metadata": {
        "id": "cUX7ZxXS9peD",
        "colab_type": "code",
        "outputId": "5cb8de8a-1af4-46bc-ac44-4b45a88a2e49",
        "colab": {
          "base_uri": "https://localhost:8080/",
          "height": 269
        }
      },
      "source": [
        "numeric_cars.isnull().sum()"
      ],
      "execution_count": 7,
      "outputs": [
        {
          "output_type": "execute_result",
          "data": {
            "text/plain": [
              "normalized-losses    41\n",
              "wheel-base            0\n",
              "length                0\n",
              "width                 0\n",
              "height                0\n",
              "curb-weight           0\n",
              "bore                  4\n",
              "stroke                4\n",
              "compression-rate      0\n",
              "horsepower            2\n",
              "peak-rpm              2\n",
              "city-mpg              0\n",
              "highway-mpg           0\n",
              "price                 4\n",
              "dtype: int64"
            ]
          },
          "metadata": {
            "tags": []
          },
          "execution_count": 7
        }
      ]
    },
    {
      "cell_type": "markdown",
      "metadata": {
        "id": "Ui4DKHIk-USI",
        "colab_type": "text"
      },
      "source": [
        "Since the 'price' column is our target, we should eliminate every row with this missing value"
      ]
    },
    {
      "cell_type": "code",
      "metadata": {
        "id": "LJMGV-vh-QsF",
        "colab_type": "code",
        "outputId": "066d0159-c8c6-432f-ee11-75a86a5606b6",
        "colab": {
          "base_uri": "https://localhost:8080/",
          "height": 269
        }
      },
      "source": [
        "numeric_cars = numeric_cars.dropna(subset=['price'])\n",
        "\n",
        "numeric_cars.isnull().sum()"
      ],
      "execution_count": 8,
      "outputs": [
        {
          "output_type": "execute_result",
          "data": {
            "text/plain": [
              "normalized-losses    37\n",
              "wheel-base            0\n",
              "length                0\n",
              "width                 0\n",
              "height                0\n",
              "curb-weight           0\n",
              "bore                  4\n",
              "stroke                4\n",
              "compression-rate      0\n",
              "horsepower            2\n",
              "peak-rpm              2\n",
              "city-mpg              0\n",
              "highway-mpg           0\n",
              "price                 0\n",
              "dtype: int64"
            ]
          },
          "metadata": {
            "tags": []
          },
          "execution_count": 8
        }
      ]
    },
    {
      "cell_type": "code",
      "metadata": {
        "id": "6yOCB_2b-1MM",
        "colab_type": "code",
        "outputId": "b952bd50-9190-480e-f87d-119b03632067",
        "colab": {
          "base_uri": "https://localhost:8080/",
          "height": 269
        }
      },
      "source": [
        "numeric_cars = numeric_cars.fillna(numeric_cars.mean())\n",
        "\n",
        "numeric_cars.isnull().sum()"
      ],
      "execution_count": 9,
      "outputs": [
        {
          "output_type": "execute_result",
          "data": {
            "text/plain": [
              "normalized-losses    0\n",
              "wheel-base           0\n",
              "length               0\n",
              "width                0\n",
              "height               0\n",
              "curb-weight          0\n",
              "bore                 0\n",
              "stroke               0\n",
              "compression-rate     0\n",
              "horsepower           0\n",
              "peak-rpm             0\n",
              "city-mpg             0\n",
              "highway-mpg          0\n",
              "price                0\n",
              "dtype: int64"
            ]
          },
          "metadata": {
            "tags": []
          },
          "execution_count": 9
        }
      ]
    },
    {
      "cell_type": "code",
      "metadata": {
        "id": "gwe9bowu_BYL",
        "colab_type": "code",
        "colab": {}
      },
      "source": [
        "price_col = numeric_cars['price']\n",
        "\n",
        "numeric_cars = (numeric_cars - numeric_cars.min()) / (numeric_cars.max() - numeric_cars.min())\n",
        "\n",
        "numeric_cars['price'] = price_col"
      ],
      "execution_count": 0,
      "outputs": []
    },
    {
      "cell_type": "markdown",
      "metadata": {
        "id": "j0cXANceAQhG",
        "colab_type": "text"
      },
      "source": [
        "# 2. Univariate Model"
      ]
    },
    {
      "cell_type": "code",
      "metadata": {
        "id": "JdyMiw3N_8Ai",
        "colab_type": "code",
        "colab": {}
      },
      "source": [
        "from sklearn.neighbors import KNeighborsRegressor\n",
        "\n",
        "from sklearn.metrics import mean_squared_error\n",
        "\n",
        "def knn_train_test(train_col, target_col, df):\n",
        "  knn = KNeighborsRegressor()\n",
        "  np.random.seed(1)\n",
        "\n",
        "  # Randomize order of rows in dataframe\n",
        "  shuffled_index = np.random.permutation(df.index)\n",
        "  rand_df = df.reindex(shuffled_index)\n",
        "\n",
        "  # Setting the cut for train and test sets\n",
        "  last_train_row = int(len(df) / 2)\n",
        "\n",
        "  # First half as training set\n",
        "  train_df = rand_df.iloc[:last_train_row]\n",
        "  test_df = rand_df.iloc[last_train_row:]\n",
        "\n",
        "  # Fit a knn model using a default k value\n",
        "  knn.fit(train_df[[train_col]], train_df[target_col])\n",
        "\n",
        "  # Make a prediction using the model\n",
        "  prediction = knn.predict(test_df[[train_col]])\n",
        "\n",
        "  # Return the root-mean-squared error\n",
        "  rmse = mean_squared_error(test_df[target_col], prediction) ** (1/2)\n",
        "  return rmse"
      ],
      "execution_count": 0,
      "outputs": []
    },
    {
      "cell_type": "code",
      "metadata": {
        "id": "D4u7-S04DVqN",
        "colab_type": "code",
        "outputId": "759e92b9-74d6-4535-d3eb-c2cac5bcd491",
        "colab": {
          "base_uri": "https://localhost:8080/",
          "height": 252
        }
      },
      "source": [
        "rmse_results = {}\n",
        "\n",
        "train_cols = numeric_cars.columns.drop('price')\n",
        "\n",
        "# For each column except 'price', calculate the RMSE value and store it in the dictionary\n",
        "for col in train_cols:\n",
        "  rmse_value = knn_train_test(col, 'price', numeric_cars)\n",
        "  rmse_results[col] = rmse_value\n",
        "\n",
        "# Creating a series object from the dictionary to easily interpret the results\n",
        "rmse_results_series = pd.Series(rmse_results)\n",
        "rmse_results_series.sort_values()\n",
        "best_features = rmse_results_series.sort_values()\n",
        "best_features"
      ],
      "execution_count": 12,
      "outputs": [
        {
          "output_type": "execute_result",
          "data": {
            "text/plain": [
              "horsepower           4037.037713\n",
              "curb-weight          4401.118255\n",
              "highway-mpg          4630.026799\n",
              "width                4704.482590\n",
              "city-mpg             4766.422505\n",
              "length               5427.200961\n",
              "wheel-base           5461.553998\n",
              "compression-rate     6610.812153\n",
              "bore                 6780.627785\n",
              "normalized-losses    7330.197653\n",
              "peak-rpm             7697.459696\n",
              "stroke               8006.529545\n",
              "height               8144.441043\n",
              "dtype: float64"
            ]
          },
          "metadata": {
            "tags": []
          },
          "execution_count": 12
        }
      ]
    },
    {
      "cell_type": "markdown",
      "metadata": {
        "id": "DijJisxCwEEY",
        "colab_type": "text"
      },
      "source": [
        "# 3. Multivariate Model\n",
        "\n",
        "In this next step we'll perform 4 measurements. Namely, we'll calculate the RMSE with the 2nd, 3rd, 4th and 5th best-performing columns in the dataframe."
      ]
    },
    {
      "cell_type": "code",
      "metadata": {
        "id": "5WH7z7HNkHCb",
        "colab_type": "code",
        "colab": {
          "base_uri": "https://localhost:8080/",
          "height": 84
        },
        "outputId": "91ccfe69-229a-4c4c-8b60-8b3d68267ef7"
      },
      "source": [
        "def knn_train_test_multi(target_col, df):\n",
        "\n",
        "  np.random.seed(1)\n",
        "    \n",
        "  # Randomize order of rows in data frame.\n",
        "  shuffled_index = np.random.permutation(df.index)\n",
        "  rand_df = df.reindex(shuffled_index)\n",
        "\n",
        "  # Divide number of rows in half and round.\n",
        "  last_train_row = int(len(rand_df) / 2)\n",
        "    \n",
        "  # Select the first half and set as training set.\n",
        "  # Select the second half and set as test set.\n",
        "  train_df = rand_df.iloc[0:last_train_row]\n",
        "  test_df = rand_df.iloc[last_train_row:]\n",
        "  \n",
        "  multi_rmse_results = {}\n",
        "  \n",
        "  for i in range(1,5):\n",
        "\n",
        "    if i == 1:\n",
        "      train_col = ['horsepower','curb-weight']\n",
        "      knn = KNeighborsRegressor()\n",
        "      knn.fit(train_df[train_col], train_df[target_col])\n",
        "\n",
        "      # Make predictions using model.\n",
        "      predicted_labels = knn.predict(test_df[train_col])\n",
        "\n",
        "      # Calculate and return RMSE.\n",
        "      mse = mean_squared_error(test_df[target_col], predicted_labels)\n",
        "      rmse = np.sqrt(mse)\n",
        "      multi_rmse_results['Root-Mean-Square-Error with the 2 best features'] = rmse\n",
        "\n",
        "    elif i == 2:\n",
        "      train_col = ['horsepower','curb-weight','highway-mpg']\n",
        "      knn = KNeighborsRegressor()\n",
        "      knn.fit(train_df[train_col], train_df[target_col])\n",
        "\n",
        "      # Make predictions using model.\n",
        "      predicted_labels = knn.predict(test_df[train_col])\n",
        "\n",
        "      # Calculate and return RMSE.\n",
        "      mse = mean_squared_error(test_df[target_col], predicted_labels)\n",
        "      rmse = np.sqrt(mse)\n",
        "      multi_rmse_results['Root-Mean-Square-Error with the 3 best features'] = rmse\n",
        "\n",
        "    elif i == 3:\n",
        "      train_col = ['horsepower','curb-weight','highway-mpg','width']\n",
        "      knn = KNeighborsRegressor()\n",
        "      knn.fit(train_df[train_col], train_df[target_col])\n",
        "\n",
        "      # Make predictions using model.\n",
        "      predicted_labels = knn.predict(test_df[train_col])\n",
        "\n",
        "      # Calculate and return RMSE.\n",
        "      mse = mean_squared_error(test_df[target_col], predicted_labels)\n",
        "      rmse = np.sqrt(mse)\n",
        "      multi_rmse_results['Root-Mean-Square-Error with the 4 best features'] = rmse\n",
        "\n",
        "    elif i == 4:\n",
        "      train_col = ['horsepower','curb-weight','highway-mpg','width','city-mpg']\n",
        "      knn = KNeighborsRegressor()\n",
        "      knn.fit(train_df[train_col], train_df[target_col])\n",
        "\n",
        "      # Make predictions using model.\n",
        "      predicted_labels = knn.predict(test_df[train_col])\n",
        "\n",
        "      # Calculate and return RMSE.\n",
        "      mse = mean_squared_error(test_df[target_col], predicted_labels)\n",
        "      rmse = np.sqrt(mse)\n",
        "      multi_rmse_results['Root-Mean-Square-Error with the 5 best features'] = rmse\n",
        "\n",
        "  return multi_rmse_results   \n",
        "\n",
        "knn_train_test_multi('price', numeric_cars)"
      ],
      "execution_count": 13,
      "outputs": [
        {
          "output_type": "execute_result",
          "data": {
            "text/plain": [
              "{'Root-Mean-Square-Error with the 2 best features': 3257.849049435976,\n",
              " 'Root-Mean-Square-Error with the 3 best features': 3365.9110004529675,\n",
              " 'Root-Mean-Square-Error with the 4 best features': 3358.6915801682458,\n",
              " 'Root-Mean-Square-Error with the 5 best features': 3341.6024539726504}"
            ]
          },
          "metadata": {
            "tags": []
          },
          "execution_count": 13
        }
      ]
    },
    {
      "cell_type": "markdown",
      "metadata": {
        "id": "RdkFfYqUyDRD",
        "colab_type": "text"
      },
      "source": [
        "As we can see from our results, the smallest errors were produced when using the first 2 and 4 best features, namely:\n",
        "\n",
        "['horsepower','curb-weight'] and ['horsepower','curb-weight','highway-mpg','width']"
      ]
    },
    {
      "cell_type": "markdown",
      "metadata": {
        "id": "Ou4K8DWHymA1",
        "colab_type": "text"
      },
      "source": [
        "# 4. Hyperparameter Tuning\n",
        "\n",
        "In this final step we'll try to change the number of neighbors used in our calculations to reduce our error."
      ]
    },
    {
      "cell_type": "code",
      "metadata": {
        "id": "n1TYAZmqykYu",
        "colab_type": "code",
        "colab": {
          "base_uri": "https://localhost:8080/",
          "height": 118
        },
        "outputId": "8eb402b6-bc00-4b61-f50b-961673f6a5b1"
      },
      "source": [
        "def knn_train_test_multi_k(target_col, df):\n",
        "\n",
        "  np.random.seed(1)\n",
        "    \n",
        "  # Randomize order of rows in data frame.\n",
        "  shuffled_index = np.random.permutation(df.index)\n",
        "  rand_df = df.reindex(shuffled_index)\n",
        "\n",
        "  # Divide number of rows in half and round.\n",
        "  last_train_row = int(len(rand_df) / 2)\n",
        "    \n",
        "  # Select the first half and set as training set.\n",
        "  # Select the second half and set as test set.\n",
        "  train_df = rand_df.iloc[0:last_train_row]\n",
        "  test_df = rand_df.iloc[last_train_row:]\n",
        "  \n",
        "  multi_k_rmse_results = {}\n",
        "  \n",
        "  for i in range(1,5):\n",
        "\n",
        "    if i == 1:\n",
        "      train_col = ['horsepower','curb-weight']\n",
        "      for n in range(1,25):\n",
        "        knn = KNeighborsRegressor(n_neighbors=n)\n",
        "        knn.fit(train_df[train_col], train_df[target_col])\n",
        "\n",
        "        # Make predictions using model\n",
        "        predicted_labels = knn.predict(test_df[train_col])\n",
        "\n",
        "        # Calculate and return RMSE.\n",
        "        mse = mean_squared_error(test_df[target_col], predicted_labels)\n",
        "        rmse = np.sqrt(mse)\n",
        "        multi_k_rmse_results['Root-Mean-Square-Error with the 2 best features and {} Neighbors: '.format(n)] = rmse\n",
        "\n",
        "    elif i == 2:\n",
        "      train_col = ['horsepower','curb-weight','highway-mpg']\n",
        "      for n in range(1,25):\n",
        "        knn = KNeighborsRegressor(n_neighbors=n)\n",
        "        knn = KNeighborsRegressor()\n",
        "        knn.fit(train_df[train_col], train_df[target_col])\n",
        "\n",
        "        # Make predictions using model.\n",
        "        predicted_labels = knn.predict(test_df[train_col])\n",
        "\n",
        "        # Calculate and return RMSE.\n",
        "        mse = mean_squared_error(test_df[target_col], predicted_labels)\n",
        "        rmse = np.sqrt(mse)\n",
        "        multi_k_rmse_results['Root-Mean-Square-Error with the 3 best features and {} Neighbors: '.format(n)] = rmse\n",
        "\n",
        "    elif i == 3:\n",
        "      train_col = ['horsepower','curb-weight','highway-mpg','width']\n",
        "      for n in range(1,25):\n",
        "        knn = KNeighborsRegressor(n_neighbors=n)\n",
        "        knn = KNeighborsRegressor()\n",
        "        knn.fit(train_df[train_col], train_df[target_col])\n",
        "\n",
        "        # Make predictions using model.\n",
        "        predicted_labels = knn.predict(test_df[train_col])\n",
        "\n",
        "        # Calculate and return RMSE.\n",
        "        mse = mean_squared_error(test_df[target_col], predicted_labels)\n",
        "        rmse = np.sqrt(mse)\n",
        "        multi_k_rmse_results['Root-Mean-Square-Error with the 3 best features and {} Neighbors: '.format(n)] = rmse\n",
        "\n",
        "    elif i == 4:\n",
        "      train_col = ['horsepower','curb-weight','highway-mpg','width','city-mpg']\n",
        "      for n in range(1,25):\n",
        "        knn = KNeighborsRegressor(n_neighbors=n)\n",
        "        knn = KNeighborsRegressor()\n",
        "        knn.fit(train_df[train_col], train_df[target_col])\n",
        "\n",
        "        # Make predictions using model.\n",
        "        predicted_labels = knn.predict(test_df[train_col])\n",
        "\n",
        "        # Calculate and return RMSE.\n",
        "        mse = mean_squared_error(test_df[target_col], predicted_labels)\n",
        "        rmse = np.sqrt(mse)\n",
        "        multi_k_rmse_results['Root-Mean-Square-Error with the 3 best features and {} Neighbors: '.format(n)] = rmse\n",
        "\n",
        "  result_series = pd.Series(multi_k_rmse_results)\n",
        "  result_series_final = result_series.sort_values()\n",
        "  return result_series_final.head()\n",
        "\n",
        "\n",
        "results = knn_train_test_multi_k('price', numeric_cars)\n",
        "\n",
        "results"
      ],
      "execution_count": 14,
      "outputs": [
        {
          "output_type": "execute_result",
          "data": {
            "text/plain": [
              "Root-Mean-Square-Error with the 2 best features and 2 Neighbors:     2700.747235\n",
              "Root-Mean-Square-Error with the 2 best features and 1 Neighbors:     2790.107143\n",
              "Root-Mean-Square-Error with the 2 best features and 3 Neighbors:     3003.748806\n",
              "Root-Mean-Square-Error with the 2 best features and 4 Neighbors:     3106.605626\n",
              "Root-Mean-Square-Error with the 2 best features and 5 Neighbors:     3257.849049\n",
              "dtype: float64"
            ]
          },
          "metadata": {
            "tags": []
          },
          "execution_count": 14
        }
      ]
    },
    {
      "cell_type": "markdown",
      "metadata": {
        "id": "OXpsx6xx1xRJ",
        "colab_type": "text"
      },
      "source": [
        "# Conclusion\n",
        "\n",
        "The best set of criteria for predicting the car value as of now is comprised of the following:\n",
        "\n",
        "Horsepower and Curb-Weight features with 2 neighbors.\n",
        "\n",
        "The Root-Mean-Squared-Error stands at 2700.\n",
        "\n"
      ]
    },
    {
      "cell_type": "code",
      "metadata": {
        "id": "TtpvNYek2JYs",
        "colab_type": "code",
        "colab": {
          "base_uri": "https://localhost:8080/",
          "height": 34
        },
        "outputId": "f79acb8f-d2a0-4e39-9836-7ce330c78989"
      },
      "source": [
        "round(sum(numeric_cars['price']) / len(numeric_cars['price']))"
      ],
      "execution_count": 15,
      "outputs": [
        {
          "output_type": "execute_result",
          "data": {
            "text/plain": [
              "13207"
            ]
          },
          "metadata": {
            "tags": []
          },
          "execution_count": 15
        }
      ]
    },
    {
      "cell_type": "markdown",
      "metadata": {
        "id": "VDePRpkQ2fvG",
        "colab_type": "text"
      },
      "source": [
        "With a mean price of about 13.000, our error represents roughly 20% of the average car value. \n",
        "\n",
        "If necessary, the next steps for reducing this gap include and improving the algorithm include: \n",
        "\n",
        "1) Add data cleaning to our function\n",
        "\n",
        "2) Perform k-fold cross validation "
      ]
    }
  ]
}